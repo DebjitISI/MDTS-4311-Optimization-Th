{
 "cells": [
  {
   "cell_type": "code",
   "execution_count": 1,
   "id": "d58358d2",
   "metadata": {},
   "outputs": [],
   "source": [
    "import pandas as pd\n",
    "import numpy as np\n",
    "\n",
    "def fibonacci(n): \n",
    "    fn = [0, 1,]\n",
    "    for i in range(2, n+1):\n",
    "        fn.append(fn[i-1] + fn[i-2])\n",
    "    return fn\n",
    "\n",
    "\n",
    "N = np.arange(16)\n",
    "data = {'n': N, 'Fibonacci(n)': fibonacci(15)}\n",
    "df = pd.DataFrame(data)"
   ]
  },
  {
   "cell_type": "code",
   "execution_count": 2,
   "id": "1d088d34",
   "metadata": {},
   "outputs": [],
   "source": [
    "def fib_search(f, a, b, n):\n",
    "    F = fibonacci(n) \n",
    "    L0 = b - a # Initial interval of uncertainty\n",
    "    R1 = L0\n",
    "    Li = (F[n-2]/F[n])*L0 \n",
    "    \n",
    "    R = [Li/L0]\n",
    "\n",
    "    for i in range(2, n+1):\n",
    "        if Li > L0/2:\n",
    "            x1 = b - Li\n",
    "            x2 = a + Li\n",
    "        else:\n",
    "            x1 = a + Li\n",
    "            x2 = b - Li\n",
    "            \n",
    "        f1, f2 = f(x1), f(x2)\n",
    "        \n",
    "        if f1 < f2:\n",
    "            b = x2\n",
    "            Li = (F[n - i]/F[n - (i - 2)])*L0 # New interval of uncertainty\n",
    "        elif f1 > f2:\n",
    "            a = x1\n",
    "            Li = (F[n - i]/F[n - (i - 2)])*L0 # New interval of uncertainty\n",
    "        else:\n",
    "            a, b = x1, x2\n",
    "            Li = (F[n - i]/F[n - (i - 2)])*(b - a) # New interval of uncertainty\n",
    "            \n",
    "        L0 = b - a\n",
    "        #R += [Li/R1,] \n",
    "        \n",
    "    if f1 <= f2:\n",
    "        return [x1, f(x1)] \n",
    "    else:\n",
    "        return [x2, f(x2)]"
   ]
  },
  {
   "cell_type": "code",
   "execution_count": 3,
   "id": "28aa0816",
   "metadata": {},
   "outputs": [
    {
     "name": "stdout",
     "output_type": "stream",
     "text": [
      "[-0.3846153846153839, 0.1479289940828397]\n",
      "-0.11834319526627211\n"
     ]
    }
   ],
   "source": [
    "def f(x):\n",
    "    return x**2\n",
    "\n",
    "interval = fib_search(f,-5,15,7)\n",
    "min = (interval[0]+interval[1])/2\n",
    "print(f\"[{interval[0]}, {interval[1]}]\")\n",
    "print(min)"
   ]
  },
  {
   "cell_type": "code",
   "execution_count": 4,
   "id": "aa77cb29",
   "metadata": {},
   "outputs": [],
   "source": [
    "import math\n",
    "\n",
    "def golden_section_search(f, a, b, tol=1e-5, max_iter=100):\n",
    "    r = (math.sqrt(5) - 1) / 2  # golden ratio \n",
    "    \n",
    "    x1 = b - r * (b - a)\n",
    "    x2 = a + r * (b - a)\n",
    "    f1 = f(x1)\n",
    "    f2 = f(x2)\n",
    "\n",
    "    iter_count = 0\n",
    "    while abs(b - a) > tol :#and iter_count < max_iter:\n",
    "        if f1 < f2:\n",
    "            b = x2\n",
    "            x2 = x1\n",
    "            f2 = f1\n",
    "            x1 = b - r * (b - a)\n",
    "            f1 = f(x1)\n",
    "        else:\n",
    "            a = x1\n",
    "            x1 = x2\n",
    "            f1 = f2\n",
    "            x2 = a + r * (b - a)\n",
    "            f2 = f(x2)\n",
    "        iter_count += 1\n",
    "\n",
    "    x_min = (a + b) / 2\n",
    "    return x_min, f(x_min), iter_count\n"
   ]
  },
  {
   "cell_type": "code",
   "execution_count": 5,
   "id": "68100291",
   "metadata": {},
   "outputs": [
    {
     "name": "stdout",
     "output_type": "stream",
     "text": [
      "Minimum at x = 3.5179209931301263e-06, f(x) = 1.2375768113905654e-11, iterations = 28\n"
     ]
    }
   ],
   "source": [
    "x_min, f_min, iters = golden_section_search(f, a=0, b=5)\n",
    "print(f\"Minimum at x = {x_min}, f(x) = {f_min}, iterations = {iters}\")"
   ]
  },
  {
   "cell_type": "code",
   "execution_count": 10,
   "id": "6b882bb5-1176-4fe2-ba72-03f713de1526",
   "metadata": {},
   "outputs": [
    {
     "name": "stdout",
     "output_type": "stream",
     "text": [
      "Collecting sympy\n",
      "  Downloading sympy-1.14.0-py3-none-any.whl.metadata (12 kB)\n",
      "Collecting mpmath<1.4,>=1.1.0 (from sympy)\n",
      "  Downloading mpmath-1.3.0-py3-none-any.whl.metadata (8.6 kB)\n",
      "Downloading sympy-1.14.0-py3-none-any.whl (6.3 MB)\n",
      "   ---------------------------------------- 0.0/6.3 MB ? eta -:--:--\n",
      "   ----------------------------- ---------- 4.7/6.3 MB 35.9 MB/s eta 0:00:01\n",
      "   ---------------------------------------- 6.3/6.3 MB 32.9 MB/s eta 0:00:00\n",
      "Downloading mpmath-1.3.0-py3-none-any.whl (536 kB)\n",
      "   ---------------------------------------- 0.0/536.2 kB ? eta -:--:--\n",
      "   --------------------------------------- 536.2/536.2 kB 18.4 MB/s eta 0:00:00\n",
      "Installing collected packages: mpmath, sympy\n",
      "\n",
      "   ---------------------------------------- 0/2 [mpmath]\n",
      "   ---------------------------------------- 0/2 [mpmath]\n",
      "   -------------------- ------------------- 1/2 [sympy]\n",
      "   -------------------- ------------------- 1/2 [sympy]\n",
      "   -------------------- ------------------- 1/2 [sympy]\n",
      "   -------------------- ------------------- 1/2 [sympy]\n",
      "   -------------------- ------------------- 1/2 [sympy]\n",
      "   -------------------- ------------------- 1/2 [sympy]\n",
      "   -------------------- ------------------- 1/2 [sympy]\n",
      "   -------------------- ------------------- 1/2 [sympy]\n",
      "   -------------------- ------------------- 1/2 [sympy]\n",
      "   -------------------- ------------------- 1/2 [sympy]\n",
      "   -------------------- ------------------- 1/2 [sympy]\n",
      "   -------------------- ------------------- 1/2 [sympy]\n",
      "   -------------------- ------------------- 1/2 [sympy]\n",
      "   -------------------- ------------------- 1/2 [sympy]\n",
      "   -------------------- ------------------- 1/2 [sympy]\n",
      "   -------------------- ------------------- 1/2 [sympy]\n",
      "   -------------------- ------------------- 1/2 [sympy]\n",
      "   -------------------- ------------------- 1/2 [sympy]\n",
      "   -------------------- ------------------- 1/2 [sympy]\n",
      "   -------------------- ------------------- 1/2 [sympy]\n",
      "   -------------------- ------------------- 1/2 [sympy]\n",
      "   -------------------- ------------------- 1/2 [sympy]\n",
      "   -------------------- ------------------- 1/2 [sympy]\n",
      "   -------------------- ------------------- 1/2 [sympy]\n",
      "   -------------------- ------------------- 1/2 [sympy]\n",
      "   -------------------- ------------------- 1/2 [sympy]\n",
      "   -------------------- ------------------- 1/2 [sympy]\n",
      "   -------------------- ------------------- 1/2 [sympy]\n",
      "   -------------------- ------------------- 1/2 [sympy]\n",
      "   -------------------- ------------------- 1/2 [sympy]\n",
      "   -------------------- ------------------- 1/2 [sympy]\n",
      "   -------------------- ------------------- 1/2 [sympy]\n",
      "   -------------------- ------------------- 1/2 [sympy]\n",
      "   -------------------- ------------------- 1/2 [sympy]\n",
      "   -------------------- ------------------- 1/2 [sympy]\n",
      "   -------------------- ------------------- 1/2 [sympy]\n",
      "   -------------------- ------------------- 1/2 [sympy]\n",
      "   -------------------- ------------------- 1/2 [sympy]\n",
      "   -------------------- ------------------- 1/2 [sympy]\n",
      "   ---------------------------------------- 2/2 [sympy]\n",
      "\n",
      "Successfully installed mpmath-1.3.0 sympy-1.14.0\n"
     ]
    }
   ],
   "source": [
    "!pip install sympy\n"
   ]
  },
  {
   "cell_type": "code",
   "execution_count": 6,
   "id": "36f75153",
   "metadata": {},
   "outputs": [
    {
     "name": "stdout",
     "output_type": "stream",
     "text": [
      " message: \n",
      "          Optimization terminated successfully;\n",
      "          The returned value satisfies the termination criteria\n",
      "          (using xtol = 1e-05 )\n",
      " success: True\n",
      "     fun: 0.0\n",
      "       x: 1.57172245561641e-162\n",
      "     nit: 799\n",
      "    nfev: 804\n"
     ]
    }
   ],
   "source": [
    "from scipy.optimize import minimize_scalar\n",
    "result = minimize_scalar(f, method='golden', tol=10**-5)\n",
    "print(result)"
   ]
  },
  {
   "cell_type": "markdown",
   "id": "bd478ccf-37f5-414b-9d97-e30bc0c45682",
   "metadata": {},
   "source": [
    "### Steepest Descent method"
   ]
  },
  {
   "cell_type": "code",
   "execution_count": 7,
   "id": "4fcaea54-b303-499f-a08a-1cef4f35cf36",
   "metadata": {},
   "outputs": [],
   "source": [
    "from sympy import symbols, Poly, Matrix, zeros, lambdify,diff"
   ]
  },
  {
   "cell_type": "code",
   "execution_count": 8,
   "id": "22090806-30fb-48fa-873f-741a67edcaf8",
   "metadata": {},
   "outputs": [],
   "source": [
    "def steepest_descent(f,x_vals):\n",
    "    n=len(x_vals)\n",
    "    x_syms= symbols(f'x1:{n+1}')\n",
    "\n",
    "    poly = Poly(f, *x_syms)\n",
    "    terms = poly.terms()\n",
    "\n",
    "    Q = zeros(n, n)\n",
    "    B = zeros(n, 1)\n",
    "\n",
    "    for powers, coeff in terms:\n",
    "        nonzero_indices = [i for i, p in enumerate(powers) if p != 0] #we donot take costant because if diffrentiated it becomes 0\n",
    "\n",
    "        if len(nonzero_indices) == 2:\n",
    "            i, j = nonzero_indices\n",
    "            Q[i, j] += coeff\n",
    "            Q[j, i] += coeff  # ensure symmetry\n",
    "\n",
    "        elif len(nonzero_indices) == 1:\n",
    "            i = nonzero_indices[0]\n",
    "            if powers[i] == 2:\n",
    "                Q[i, i] += 2 * coeff\n",
    "            elif powers[i] == 1:\n",
    "                B[i, 0] += coeff\n",
    "\n",
    "    \n",
    "    x_vec = Matrix(x_vals).reshape(n, 1)\n",
    "    while True:\n",
    "        grad = Q * x_vec + B\n",
    "\n",
    "        if grad ==  zeros(n,1):\n",
    "            break  # Gradient is zero → converged\n",
    "\n",
    "        numerator = (grad.T * grad)[0]\n",
    "        denominator = (grad.T * Q * grad)[0]\n",
    "\n",
    "        # if denominator == 0:\n",
    "        #     break\n",
    "\n",
    "        alpha = numerator / denominator\n",
    "        x_new = x_vec - alpha * grad\n",
    "        x_vec = x_new\n",
    "        \n",
    "    return x_vec"
   ]
  },
  {
   "cell_type": "code",
   "execution_count": 9,
   "id": "82576765-3b19-4035-91e0-849bcd42ef59",
   "metadata": {},
   "outputs": [
    {
     "name": "stdout",
     "output_type": "stream",
     "text": [
      "Minimum at: Matrix([[0], [-1]])\n"
     ]
    }
   ],
   "source": [
    "x1, x2 = symbols('x1 x2 ')\n",
    "f = x1**2 + 2*x2 + x2**2 + 4\n",
    "\n",
    "result = steepest_descent(f, [2,1])\n",
    "print(\"Minimum at:\", result)"
   ]
  },
  {
   "cell_type": "markdown",
   "id": "f4be7b4c-33b2-4f03-adcf-3d4585e67e47",
   "metadata": {},
   "source": [
    "### Newton's Method"
   ]
  },
  {
   "cell_type": "code",
   "execution_count": 10,
   "id": "1dbb11b7-8b2d-46d5-888c-97740fc3d568",
   "metadata": {},
   "outputs": [],
   "source": [
    "import numpy as np\n",
    "\n"
   ]
  },
  {
   "cell_type": "code",
   "execution_count": 11,
   "id": "eb7603af-802a-4bb6-9e66-6afea2ea9274",
   "metadata": {},
   "outputs": [],
   "source": [
    "def newton_method(f,x_vals,tol=1e-6, max_iter=50):\n",
    "    n = len(x_vals)\n",
    "    x_syms = symbols(f'x1:{n+1}')\n",
    "\n",
    "    poly = Poly(f,*x_syms)\n",
    "    terms = poly.terms()\n",
    "    \n",
    "    # Gradient (vector of first partials)\n",
    "    grad_f = Matrix([diff(f, var) for var in x_syms])\n",
    "                             \n",
    "    # Hessian (matrix of second partials)\n",
    "    H_f = Matrix(n, n, lambda i, j: diff(f, x_syms[i], x_syms[j]))\n",
    "\n",
    "    \n",
    "    grad_func = lambdify(x_syms, grad_f, modules='numpy')\n",
    "    hess_func = lambdify(x_syms, H_f, modules='numpy')\n",
    "\n",
    "    x = np.array(x_vals, dtype=np.float64)\n",
    "\n",
    "    while True:\n",
    "        grad_val = np.array(grad_func(*x), dtype=np.float64).reshape(n, 1)\n",
    "        hess_val = np.array(hess_func(*x), dtype=np.float64)\n",
    "\n",
    "        # Convergence check\n",
    "        if np.linalg.norm(grad_val) < tol:\n",
    "            break\n",
    "\n",
    "        try:\n",
    "            delta = np.linalg.solve(hess_val, grad_val)\n",
    "        except np.linalg.LinAlgError:\n",
    "            print(\"Hessian is singular or ill-conditioned. Stopping.\")\n",
    "            break\n",
    "\n",
    "        x = x - delta.flatten()\n",
    "\n",
    "    return x\n",
    "\n",
    "    "
   ]
  },
  {
   "cell_type": "code",
   "execution_count": 12,
   "id": "fe65799f-2148-4d80-816e-f8bc69106823",
   "metadata": {},
   "outputs": [
    {
     "name": "stdout",
     "output_type": "stream",
     "text": [
      "Minimum at: [0. 0.]\n"
     ]
    }
   ],
   "source": [
    "x1, x2 = symbols('x1 x2')\n",
    "f = 8*x1**2 - 4*x1*x2 + 5*x2**2 \n",
    "\n",
    "result = newton_method(f, [5, 2])\n",
    "print(\"Minimum at:\", result)"
   ]
  },
  {
   "cell_type": "code",
   "execution_count": 13,
   "id": "5b49f654-a159-409d-8371-3efbdf5eb7d9",
   "metadata": {},
   "outputs": [
    {
     "name": "stdout",
     "output_type": "stream",
     "text": [
      "Minimum at: [ 0.57085597 -0.93955591  0.76817555]\n"
     ]
    }
   ],
   "source": [
    "x1, x2, x3 = symbols('x1 x2 x3')\n",
    "f = x1**4 + x1**3 - x1 + x2**4 - x2**2 + x2 + x3**2 - x3 + x1*x2*x3\n",
    "\n",
    "result = newton_method(f, [1, -1, 1])\n",
    "print(\"Minimum at:\", result)"
   ]
  },
  {
   "cell_type": "code",
   "execution_count": null,
   "id": "58281a6d-5fa2-48d5-9be9-fabe284b051d",
   "metadata": {},
   "outputs": [],
   "source": []
  },
  {
   "cell_type": "code",
   "execution_count": null,
   "id": "01f8e765-6b10-47d7-a015-fd9c5451f42e",
   "metadata": {},
   "outputs": [],
   "source": []
  },
  {
   "cell_type": "code",
   "execution_count": null,
   "id": "679d87c8-4eca-4b98-9d74-4f5065ec18f4",
   "metadata": {},
   "outputs": [],
   "source": []
  }
 ],
 "metadata": {
  "kernelspec": {
   "display_name": "Python 3 (ipykernel)",
   "language": "python",
   "name": "python3"
  },
  "language_info": {
   "codemirror_mode": {
    "name": "ipython",
    "version": 3
   },
   "file_extension": ".py",
   "mimetype": "text/x-python",
   "name": "python",
   "nbconvert_exporter": "python",
   "pygments_lexer": "ipython3",
   "version": "3.13.5"
  }
 },
 "nbformat": 4,
 "nbformat_minor": 5
}
