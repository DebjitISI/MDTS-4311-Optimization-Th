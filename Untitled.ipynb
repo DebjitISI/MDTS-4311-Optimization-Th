{
 "cells": [
  {
   "cell_type": "code",
   "execution_count": 2,
   "id": "40f82d5b-9e43-41d5-ac02-37a2b6139a3f",
   "metadata": {},
   "outputs": [],
   "source": [
    "from scipy.optimize import minimize,minimize_scalar"
   ]
  },
  {
   "cell_type": "code",
   "execution_count": 11,
   "id": "09a47fdd-66d9-4b12-82f4-38aab90d49a4",
   "metadata": {},
   "outputs": [
    {
     "name": "stdout",
     "output_type": "stream",
     "text": [
      "Optimization terminated successfully.\n",
      "         Current function value: 3.000000\n",
      "         Iterations: 2\n",
      "         Function evaluations: 9\n",
      "         Gradient evaluations: 3\n",
      "Optimal value: 3.0000000000000013\n",
      "Optimal point: [-2.37910001e-08 -2.37910001e-08]\n"
     ]
    }
   ],
   "source": [
    "\n",
    "\n",
    "# Define the objective function\n",
    "def objective_function(x):\n",
    "    return x[0]**2 + x[1]**2 + 3\n",
    "\n",
    "# Initial guess\n",
    "x0 = [1, 1]\n",
    "\n",
    "# Perform optimization using BFGS\n",
    "result = minimize(objective_function, x0, method='BFGS',options={'maxiter': 100, 'disp': True})\n",
    "\n",
    "# Print the result\n",
    "print(\"Optimal value:\", result.fun)\n",
    "print(\"Optimal point:\", result.x)\n"
   ]
  },
  {
   "cell_type": "code",
   "execution_count": 9,
   "id": "3224202a-00d5-4164-8fa5-fb6df2665f3d",
   "metadata": {},
   "outputs": [
    {
     "data": {
      "text/plain": [
       "array([-2.37910001e-08, -2.37910001e-08])"
      ]
     },
     "execution_count": 9,
     "metadata": {},
     "output_type": "execute_result"
    }
   ],
   "source": [
    "minimize"
   ]
  },
  {
   "cell_type": "code",
   "execution_count": 5,
   "id": "f878bc16-4c63-4d21-9b40-f368ae87f51e",
   "metadata": {},
   "outputs": [
    {
     "data": {
      "text/plain": [
       "'Optimization terminated successfully.'"
      ]
     },
     "execution_count": 5,
     "metadata": {},
     "output_type": "execute_result"
    }
   ],
   "source": [
    "result.message"
   ]
  },
  {
   "cell_type": "code",
   "execution_count": 12,
   "id": "82f986cc-dd1b-4f75-9776-c3c6d678093e",
   "metadata": {},
   "outputs": [
    {
     "name": "stdout",
     "output_type": "stream",
     "text": [
      "Optimization terminated successfully.\n",
      "         Current function value: -0.250000\n",
      "         Iterations: 2\n",
      "         Function evaluations: 6\n",
      "         Gradient evaluations: 3\n",
      "Final result:   message: Optimization terminated successfully.\n",
      "  success: True\n",
      "   status: 0\n",
      "      fun: -0.25\n",
      "        x: [-1.500e+00]\n",
      "      nit: 2\n",
      "      jac: [ 0.000e+00]\n",
      " hess_inv: [[ 5.000e-01]]\n",
      "     nfev: 6\n",
      "     njev: 3\n",
      "Iteration data: [array([-1.01]), array([-1.50000001])]\n"
     ]
    }
   ],
   "source": [
    "import numpy as np\n",
    "from scipy.optimize import minimize\n",
    "\n",
    "# Define your objective function\n",
    "def objective_function(x):\n",
    "    return x**2 + 3*x + 2  # Example function\n",
    "\n",
    "# Initialize the list to store iteration data\n",
    "iteration_data = []\n",
    "\n",
    "# Define a callback function to capture the value of x at each iteration\n",
    "def callback(xk):\n",
    "    iteration_data.append(xk)\n",
    "\n",
    "# Initial guess\n",
    "x0 = [0]\n",
    "\n",
    "# Specify options (like max iterations, etc.)\n",
    "options = {'maxiter': 100, 'disp': True}\n",
    "\n",
    "# Minimize the objective function with BFGS and track iterations\n",
    "result = minimize(objective_function, x0, method='BFGS', options=options, callback=callback)\n",
    "\n",
    "# Print the final result and the values at each iteration\n",
    "print(\"Final result:\", result)\n",
    "print(\"Iteration data:\", iteration_data)\n"
   ]
  },
  {
   "cell_type": "code",
   "execution_count": 13,
   "id": "5cd1fcd5-b5cd-4153-a542-3034081fd56e",
   "metadata": {},
   "outputs": [
    {
     "name": "stdout",
     "output_type": "stream",
     "text": [
      "Optimization terminated successfully.\n",
      "         Current function value: -0.250000\n",
      "         Iterations: 2\n",
      "         Function evaluations: 6\n",
      "         Gradient evaluations: 3\n",
      "Optimization result:   message: Optimization terminated successfully.\n",
      "  success: True\n",
      "   status: 0\n",
      "      fun: -0.25\n",
      "        x: [-1.500e+00]\n",
      "      nit: 2\n",
      "      jac: [ 0.000e+00]\n",
      " hess_inv: [[ 5.000e-01]]\n",
      "     nfev: 6\n",
      "     njev: 3\n",
      "\n",
      "Iteration details:\n",
      "Iteration 1: x = [-1.01], f(x) = [-0.0099], grad = [0.98]\n",
      "Iteration 2: x = [-1.50000001], f(x) = [-0.25], grad = [-2.83269603e-08]\n"
     ]
    }
   ],
   "source": [
    "import numpy as np\n",
    "from scipy.optimize import minimize\n",
    "\n",
    "# Define your objective function\n",
    "def objective_function(x):\n",
    "    return x**2 + 3*x + 2  # Example quadratic function\n",
    "\n",
    "# Callback function to track iteration details\n",
    "iteration_details = []\n",
    "\n",
    "def callback(xk):\n",
    "    # Function value at the current parameter xk\n",
    "    fval = objective_function(xk)\n",
    "    \n",
    "    # Optionally, get gradient (if needed, for certain methods like BFGS)\n",
    "    # In this case, it isn't strictly needed, but if you use a gradient-based method:\n",
    "    grad = 2*xk + 3  # Gradient of x^2 + 3x + 2\n",
    "    \n",
    "    # Append detailed iteration information\n",
    "    iteration_details.append({\n",
    "        'x': xk,\n",
    "        'fval': fval,\n",
    "        'grad': grad\n",
    "    })\n",
    "\n",
    "# Initial guess\n",
    "x0 = [0]\n",
    "\n",
    "# Specify options (like max iterations, etc.)\n",
    "options = {'maxiter': 100, 'disp': True}\n",
    "\n",
    "# Perform the minimization\n",
    "result = minimize(objective_function, x0, method='BFGS', options=options, callback=callback)\n",
    "\n",
    "# Print final result and all iteration details\n",
    "print(\"Optimization result:\", result)\n",
    "print(\"\\nIteration details:\")\n",
    "for i, details in enumerate(iteration_details):\n",
    "    print(f\"Iteration {i+1}: x = {details['x']}, f(x) = {details['fval']}, grad = {details['grad']}\")\n"
   ]
  }
 ],
 "metadata": {
  "kernelspec": {
   "display_name": "Python 3 (ipykernel)",
   "language": "python",
   "name": "python3"
  },
  "language_info": {
   "codemirror_mode": {
    "name": "ipython",
    "version": 3
   },
   "file_extension": ".py",
   "mimetype": "text/x-python",
   "name": "python",
   "nbconvert_exporter": "python",
   "pygments_lexer": "ipython3",
   "version": "3.13.5"
  },
  "widgets": {
   "application/vnd.jupyter.widget-state+json": {
    "state": {},
    "version_major": 2,
    "version_minor": 0
   }
  }
 },
 "nbformat": 4,
 "nbformat_minor": 5
}
