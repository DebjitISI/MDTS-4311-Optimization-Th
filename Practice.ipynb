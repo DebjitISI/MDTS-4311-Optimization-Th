{
 "cells": [
  {
   "cell_type": "code",
   "execution_count": 1,
   "id": "2de39786-4163-4d60-ad8f-bdb203596fd1",
   "metadata": {},
   "outputs": [],
   "source": [
    "import numpy as np\n"
   ]
  },
  {
   "cell_type": "code",
   "execution_count": 2,
   "id": "62f2ee28-b4cb-4f8d-8470-73ee4eb3dca8",
   "metadata": {},
   "outputs": [],
   "source": [
    "import sympy as sp"
   ]
  },
  {
   "cell_type": "code",
   "execution_count": 22,
   "id": "68603210-518d-4e7c-9b5f-7fa88e58be43",
   "metadata": {},
   "outputs": [],
   "source": [
    "def golden_search(f,a,b,tol=1e-2):\n",
    "    #tol = length of interval of uncertainity\n",
    "    r = (np.sqrt(5) - 1) / 2\n",
    "    i =0\n",
    "    while abs(b - a) >tol:\n",
    "        x1 = a + (1-r)*(b - a)\n",
    "        x2 = a + r*(b - a)\n",
    "        if f(x1) < f(x2):\n",
    "            b = x2\n",
    "        else:\n",
    "            a = x1\n",
    "        i+= 1\n",
    "        print(f'iter:{i} | interval:[{a},{b}]')\n",
    "    x_min = (a+b)/2\n",
    "    return x_min, f(x_min), i"
   ]
  },
  {
   "cell_type": "code",
   "execution_count": 20,
   "id": "801f9289-f544-471d-89c3-e8df5c0baad2",
   "metadata": {},
   "outputs": [],
   "source": [
    "def f(x):\n",
    "    return x**2"
   ]
  },
  {
   "cell_type": "code",
   "execution_count": 21,
   "id": "1d3ae5d0-d133-4419-9d06-aa2348b6f6e8",
   "metadata": {},
   "outputs": [
    {
     "name": "stdout",
     "output_type": "stream",
     "text": [
      "iter:1 | interval:[-5,7.360679774997898]\n",
      "iter:2 | interval:[-5,2.6393202250021046]\n",
      "iter:3 | interval:[-2.0820393249936906,2.6393202250021046]\n",
      "iter:4 | interval:[-2.0820393249936906,0.8359213500126197]\n",
      "iter:5 | interval:[-0.9674775249768661,0.8359213500126197]\n",
      "iter:6 | interval:[-0.27864045000420534,0.8359213500126197]\n",
      "iter:7 | interval:[-0.27864045000420534,0.41019662496845566]\n",
      "iter:8 | interval:[-0.27864045000420534,0.14708427503995875]\n",
      "iter:9 | interval:[-0.11602807488853825,0.14708427503995875]\n",
      "iter:10 | interval:[-0.11602807488853825,0.046584300227128866]\n",
      "iter:11 | interval:[-0.05391567458570103,0.046584300227128866]\n",
      "iter:12 | interval:[-0.015528100075708366,0.046584300227128866]\n",
      "iter:13 | interval:[-0.015528100075708366,0.022859474434284308]\n",
      "iter:14 | interval:[-0.015528100075708366,0.0081967257171362]\n",
      "iter:15 | interval:[-0.006466023000011915,0.0081967257171362]\n",
      "iter:16 | interval:[-0.006466023000011915,0.002596054075684539]\n",
      "Minimum at x = -0.0019349844621636882, f(x) = 3.744164868814898e-06, iterations = 16\n"
     ]
    }
   ],
   "source": [
    "x_min, f_min, iters = golden_search(f, a=-5, b=15)\n",
    "print(f\"Minimum at x = {x_min}, f(x) = {f_min}, iterations = {iters}\")"
   ]
  },
  {
   "cell_type": "code",
   "execution_count": 35,
   "id": "b61574a7-76d6-49c2-ae3f-02b601aa90e2",
   "metadata": {},
   "outputs": [],
   "source": [
    "def fib(n): \n",
    "    fn = [0, 1,]\n",
    "    for i in range(2, n+1):\n",
    "        fn.append(fn[i-1] + fn[i-2])\n",
    "    return fn"
   ]
  },
  {
   "cell_type": "code",
   "execution_count": 63,
   "id": "c4388609-0df1-44b0-9db7-7f72cc650f8d",
   "metadata": {},
   "outputs": [],
   "source": [
    "def fib_search(f,a,b,n):\n",
    "    F = fib(n)\n",
    "    L0 = b - a\n",
    "    #print(f\"iter:{1} | interval: [{a},{b}]\")\n",
    "    for i in range(2,n+1):\n",
    "        L0i = (F[n-i]/F[n])*L0\n",
    "        x1 = a + L0i\n",
    "        x2 = b - L0i\n",
    "        if f(x1)>f(x2):\n",
    "            a = x1\n",
    "        else:\n",
    "            b = x2\n",
    "        print(f\"iter:{i-1} | interval: [{a},{b}]\")\n",
    "    x_min = (a+b)/2\n",
    "    return x_min, f(x_min), n"
   ]
  },
  {
   "cell_type": "code",
   "execution_count": 67,
   "id": "ff3182a5-9952-4716-983f-2a88572083b4",
   "metadata": {},
   "outputs": [
    {
     "name": "stdout",
     "output_type": "stream",
     "text": [
      "iter:1 | interval: [-5,7.380952380952381]\n",
      "iter:2 | interval: [-5,2.6190476190476195]\n",
      "iter:3 | interval: [-2.1428571428571432,2.6190476190476195]\n",
      "iter:4 | interval: [-2.1428571428571432,0.7142857142857149]\n",
      "iter:5 | interval: [-1.190476190476191,0.7142857142857149]\n",
      "iter:6 | interval: [-0.23809523809523858,0.7142857142857149]\n",
      "iter:7 | interval: [-0.23809523809523858,0.7142857142857149]\n"
     ]
    },
    {
     "data": {
      "text/plain": [
       "(0.23809523809523814, 0.056689342403628135, 8)"
      ]
     },
     "execution_count": 67,
     "metadata": {},
     "output_type": "execute_result"
    }
   ],
   "source": [
    "fib_search(f,-5,15,8)"
   ]
  },
  {
   "cell_type": "code",
   "execution_count": 101,
   "id": "0f04cf15-9304-48d9-a963-6f91cf83a1ef",
   "metadata": {},
   "outputs": [],
   "source": [
    "def newton(f,x_vals,tol=1e-3):\n",
    "    n = len(x_vals)\n",
    "    x_syms = sp.symbols(f\"x1:{n+1}\")\n",
    "\n",
    "    grad_f = sp.Matrix([sp.diff(f,var) for var in x_syms])\n",
    "    hess_f = sp.Matrix(n, n, lambda i, j: sp.diff(f, x_syms[i], x_syms[j]))\n",
    "\n",
    "    grad_func = sp.lambdify(x_syms, grad_f, \"numpy\")\n",
    "    hess_func = sp.lambdify(x_syms, hess_f, \"numpy\")\n",
    "    func = sp.lambdify(x_syms, f, \"numpy\")\n",
    "\n",
    "    i=0\n",
    "\n",
    "    while True:\n",
    "        grad = np.array(grad_func(*x_vals), dtype=float).flatten()\n",
    "        if np.linalg.norm(grad) <= tol:\n",
    "            print(\"Gradient tends to 0\")\n",
    "            break\n",
    "        hess = np.array(hess_func(*x_vals), dtype=float)\n",
    "        try:\n",
    "            delta = np.dot(np.linalg.inv(hess),grad)\n",
    "        except np.linalg.LinAlgError:\n",
    "            print(\"Hessian matrix is singular.Stopping\")\n",
    "            break\n",
    "        x = x_vals - delta\n",
    "        x_vals = x\n",
    "        print(f\"Iter {i+1}: x = {x_vals}, f(x) = {func(*x_vals):.6f}, ||grad|| = {np.linalg.norm(grad):.6f}\")\n",
    "        i+=1\n",
    "        \n",
    "    return x_vals"
   ]
  },
  {
   "cell_type": "code",
   "execution_count": 102,
   "id": "c32aca4f-c44a-428c-b3ed-0d6ebcc57a18",
   "metadata": {},
   "outputs": [
    {
     "name": "stdout",
     "output_type": "stream",
     "text": [
      "Iter 1: x = [ 0. -1.], f(x) = 3.000000, ||grad|| = 5.656854\n",
      "Gradient tends to 0\n",
      "Minimum at: [ 0. -1.]\n"
     ]
    }
   ],
   "source": [
    "x1, x2 = sp.symbols('x1 x2 ')\n",
    "f = x1**2 + 2*x2 + x2**2 + 4\n",
    "\n",
    "result = newton(f, [2,1])\n",
    "print(\"Minimum at:\", result)"
   ]
  },
  {
   "cell_type": "code",
   "execution_count": 9,
   "id": "7967f811-795b-431b-8d6a-fc91845a2ff4",
   "metadata": {},
   "outputs": [],
   "source": [
    "def line_search(f, grad, x, delta, c1=1e-4, rho=0.5):\n",
    "    \n",
    "    alpha = 1.0\n",
    "    fx = f(*x)\n",
    "    while f(*(x + alpha * delta)) > fx + c1 * alpha * np.dot(grad, delta):\n",
    "        alpha *= rho\n",
    "    return alpha"
   ]
  },
  {
   "cell_type": "code",
   "execution_count": 124,
   "id": "f5e03b3e-5be9-4621-b929-4d3bb4f957ec",
   "metadata": {},
   "outputs": [],
   "source": [
    "def steepest_descent(f,x_vals,tol = 1e-5):\n",
    "    n = len(x_vals)\n",
    "    x_syms = sp.symbols(f\"x1:{n+1}\")\n",
    "\n",
    "    grad_f = sp.Matrix([sp.diff(f,var) for var in x_syms])\n",
    "\n",
    "    grad_func = sp.lambdify(x_syms, grad_f, \"numpy\")\n",
    "    func =  sp.lambdify(x_syms, f, \"numpy\")\n",
    "\n",
    "    i = 0\n",
    "    while True:\n",
    "        grad = np.array(grad_func(*x_vals), dtype=float).flatten()\n",
    "        if np.linalg.norm(grad) <= tol:\n",
    "            print(\"Gradient tends to 0\")\n",
    "            break\n",
    "\n",
    "        d = -grad\n",
    "        alpha = line_search(func, grad, x_vals, d)\n",
    "        x_vals = x_vals + alpha * d\n",
    "\n",
    "        print(f\"Iter {i+1}: alpha:{alpha}, x = {x_vals}, f(x) = {func(*x_vals):.6f}, ||grad|| = {np.linalg.norm(grad):.6f}\")\n",
    "\n",
    "    return x_vals"
   ]
  },
  {
   "cell_type": "code",
   "execution_count": 125,
   "id": "377204dc-df13-4bd2-b0c5-3e66db9821ef",
   "metadata": {},
   "outputs": [
    {
     "name": "stdout",
     "output_type": "stream",
     "text": [
      "Iter 1: alpha:0.5, x = [ 0. -1.], f(x) = 3.000000, ||grad|| = 5.656854\n",
      "Gradient tends to 0\n",
      "Minimum at: [ 0. -1.]\n"
     ]
    }
   ],
   "source": [
    "x1, x2 = sp.symbols('x1 x2 ')\n",
    "f = x1**2 + 2*x2 + x2**2 + 4\n",
    "\n",
    "result = steepest_descent(f, [2,1])\n",
    "print(\"Minimum at:\", result)"
   ]
  },
  {
   "cell_type": "code",
   "execution_count": 142,
   "id": "fe63f072-f02e-4e72-9b0e-0daef41ad31e",
   "metadata": {},
   "outputs": [],
   "source": [
    "def Q_conjugate_no_direction(f, x_vals, Q, tol = 1e-2):\n",
    "    n = len(x_vals)\n",
    "    x_syms = sp.symbols(f\"x1:{n+1}\")\n",
    "\n",
    "    grad_f = sp.Matrix([sp.diff(f,var) for var in x_syms])\n",
    "\n",
    "    grad_func = sp.lambdify(x_syms, grad_f, \"numpy\")\n",
    "    func =  sp.lambdify(x_syms, f, \"numpy\")\n",
    "\n",
    "    i = 0\n",
    "    grad = np.array(grad_func(*x_vals),dtype = float).flatten()\n",
    "    d = -grad\n",
    "    while True:\n",
    "        \n",
    "        Qd = Q @ d\n",
    "        alpha = -(grad.T @ d)/(d.T @ Qd)\n",
    "        x_vals = x_vals + alpha*d\n",
    "        grad = np.array(grad_func(*x_vals),dtype = float).flatten()\n",
    "        print(f\"Iter {i+1}: alpha = {alpha:.6f}, x = {x_vals}, f(x) = {func(*x_vals):.6f}, ||grad|| = {np.linalg.norm(grad):.6f}, direction : {d}\")\n",
    "        if np.linalg.norm(grad) <= tol:\n",
    "            print(\"Gradient tends to 0\")\n",
    "            break\n",
    "        \n",
    "        beta = -(grad.T @ Qd)/(d.T @ Qd)\n",
    "        d = -grad + beta*d\n",
    "        i += 1\n",
    "    return x_vals"
   ]
  },
  {
   "cell_type": "code",
   "execution_count": 143,
   "id": "2b48e319-579f-4ca5-916c-d23869e73c45",
   "metadata": {
    "scrolled": true
   },
   "outputs": [
    {
     "name": "stdout",
     "output_type": "stream",
     "text": [
      "Iter 1: alpha = 1.000000, x = [-1.  1.], f(x) = -1.000000, ||grad|| = 1.414214, direction : [-1.  1.]\n",
      "Iter 2: alpha = 0.125000, x = [-0.75  1.  ], f(x) = -1.125000, ||grad|| = 0.500000, direction : [2. 0.]\n",
      "Iter 3: alpha = 0.200000, x = [-0.7  1.1], f(x) = -1.150000, ||grad|| = 0.447214, direction : [0.25 0.5 ]\n",
      "Iter 4: alpha = 0.200000, x = [-0.8  1.1], f(x) = -1.170000, ||grad|| = 0.400000, direction : [-5.00000000e-01 -7.21644966e-16]\n",
      "Iter 5: alpha = 0.200000, x = [-0.76  1.18], f(x) = -1.186000, ||grad|| = 0.357771, direction : [0.2 0.4]\n",
      "Iter 6: alpha = 0.200000, x = [-0.84  1.18], f(x) = -1.198800, ||grad|| = 0.320000, direction : [-4.00000000e-01 -1.55431223e-15]\n",
      "Iter 7: alpha = 0.200000, x = [-0.808  1.244], f(x) = -1.209040, ||grad|| = 0.286217, direction : [0.16 0.32]\n",
      "Iter 8: alpha = 0.200000, x = [-0.872  1.244], f(x) = -1.217232, ||grad|| = 0.256000, direction : [-3.20000000e-01 -4.74620343e-15]\n",
      "Iter 9: alpha = 0.200000, x = [-0.8464  1.2952], f(x) = -1.223786, ||grad|| = 0.228973, direction : [0.128 0.256]\n",
      "Iter 10: alpha = 0.200000, x = [-0.8976  1.2952], f(x) = -1.229028, ||grad|| = 0.204800, direction : [-2.56000000e-01 -1.31561428e-14]\n",
      "Iter 11: alpha = 0.200000, x = [-0.87712  1.33616], f(x) = -1.233223, ||grad|| = 0.183179, direction : [0.1024 0.2048]\n",
      "Iter 12: alpha = 0.200000, x = [-0.91808  1.33616], f(x) = -1.236578, ||grad|| = 0.163840, direction : [-2.04800000e-01 -3.31817906e-14]\n",
      "Iter 13: alpha = 0.200000, x = [-0.901696  1.368928], f(x) = -1.239263, ||grad|| = 0.146543, direction : [0.08192 0.16384]\n",
      "Iter 14: alpha = 0.200000, x = [-0.934464  1.368928], f(x) = -1.241410, ||grad|| = 0.131072, direction : [-1.63840000e-01 -8.70414851e-14]\n",
      "Iter 15: alpha = 0.200000, x = [-0.9213568  1.3951424], f(x) = -1.243128, ||grad|| = 0.117234, direction : [0.065536 0.131072]\n",
      "Iter 16: alpha = 0.200000, x = [-0.9475712  1.3951424], f(x) = -1.244502, ||grad|| = 0.104858, direction : [-1.31072000e-01 -2.25847119e-13]\n",
      "Iter 17: alpha = 0.200000, x = [-0.93708544  1.41611392], f(x) = -1.245602, ||grad|| = 0.093787, direction : [0.0524288 0.1048576]\n",
      "Iter 18: alpha = 0.200000, x = [-0.95805696  1.41611392], f(x) = -1.246482, ||grad|| = 0.083886, direction : [-1.04857600e-01 -5.85899385e-13]\n",
      "Iter 19: alpha = 0.200000, x = [-0.94966835  1.43289114], f(x) = -1.247185, ||grad|| = 0.075030, direction : [0.04194304 0.08388608]\n",
      "Iter 20: alpha = 0.200000, x = [-0.96644557  1.43289114], f(x) = -1.247748, ||grad|| = 0.067109, direction : [-8.38860800e-02 -1.51871571e-12]\n",
      "Iter 21: alpha = 0.200000, x = [-0.95973468  1.44631291], f(x) = -1.248199, ||grad|| = 0.060024, direction : [0.03355443 0.06710886]\n",
      "Iter 22: alpha = 0.200000, x = [-0.97315645  1.44631291], f(x) = -1.248559, ||grad|| = 0.053687, direction : [-6.71088640e-02 -3.93646921e-12]\n",
      "Iter 23: alpha = 0.200000, x = [-0.96778775  1.45705033], f(x) = -1.248847, ||grad|| = 0.048019, direction : [0.02684355 0.05368709]\n",
      "Iter 24: alpha = 0.200000, x = [-0.97852516  1.45705033], f(x) = -1.249078, ||grad|| = 0.042950, direction : [-5.36870912e-02 -1.02026686e-11]\n",
      "Iter 25: alpha = 0.200000, x = [-0.9742302   1.46564026], f(x) = -1.249262, ||grad|| = 0.038415, direction : [0.02147484 0.04294967]\n",
      "Iter 26: alpha = 0.200000, x = [-0.98282013  1.46564026], f(x) = -1.249410, ||grad|| = 0.034360, direction : [-4.29496730e-02 -2.64448255e-11]\n",
      "Iter 27: alpha = 0.200000, x = [-0.97938416  1.47251221], f(x) = -1.249528, ||grad|| = 0.030732, direction : [0.01717987 0.03435974]\n",
      "Iter 28: alpha = 0.200000, x = [-0.9862561   1.47251221], f(x) = -1.249622, ||grad|| = 0.027488, direction : [-3.43597384e-02 -6.85451869e-11]\n",
      "Iter 29: alpha = 0.200000, x = [-0.98350733  1.47800977], f(x) = -1.249698, ||grad|| = 0.024586, direction : [0.0137439  0.02748779]\n",
      "Iter 30: alpha = 0.200000, x = [-0.98900488  1.47800977], f(x) = -1.249758, ||grad|| = 0.021990, direction : [-2.74877908e-02 -1.77669435e-10]\n",
      "Iter 31: alpha = 0.200000, x = [-0.98680586  1.48240781], f(x) = -1.249807, ||grad|| = 0.019669, direction : [0.01099512 0.02199023]\n",
      "Iter 32: alpha = 0.200000, x = [-0.99120391  1.48240781], f(x) = -1.249845, ||grad|| = 0.017592, direction : [-2.19902328e-02 -4.60519248e-10]\n",
      "Iter 33: alpha = 0.200000, x = [-0.98944469  1.48592625], f(x) = -1.249876, ||grad|| = 0.015735, direction : [0.00879609 0.01759219]\n",
      "Iter 34: alpha = 0.200000, x = [-0.99296313  1.48592625], f(x) = -1.249901, ||grad|| = 0.014074, direction : [-1.75921866e-02 -1.19366673e-09]\n",
      "Iter 35: alpha = 0.200000, x = [-0.99155575  1.488741  ], f(x) = -1.249921, ||grad|| = 0.012588, direction : [0.00703687 0.01407375]\n",
      "Iter 36: alpha = 0.200000, x = [-0.9943705  1.488741 ], f(x) = -1.249937, ||grad|| = 0.011259, direction : [-1.40737503e-02 -3.09398479e-09]\n",
      "Iter 37: alpha = 0.200000, x = [-0.9932446  1.4909928], f(x) = -1.249949, ||grad|| = 0.010070, direction : [0.00562949 0.011259  ]\n",
      "Iter 38: alpha = 0.200000, x = [-0.9954964  1.4909928], f(x) = -1.249959, ||grad|| = 0.009007, direction : [-1.12590028e-02 -8.01960930e-09]\n",
      "Gradient tends to 0\n",
      "Minimum at: [-0.9954964  1.4909928]\n"
     ]
    }
   ],
   "source": [
    "x1, x2 = sp.symbols('x1 x2 ')\n",
    "f = x1 - x2 + 2*x1**2 + 2*x1*x2 + x2**2\n",
    "x0 = np.array([0.0, 0.0])\n",
    "Q = np.array([[4, 2], [2, 2]])\n",
    "result = Q_conjugate_no_direction(f, x0, Q)\n",
    "print(\"Minimum at:\", result)"
   ]
  },
  {
   "cell_type": "code",
   "execution_count": null,
   "id": "538a9c1a-c766-4b16-8d49-6a1cee56fd87",
   "metadata": {},
   "outputs": [],
   "source": []
  },
  {
   "cell_type": "code",
   "execution_count": 145,
   "id": "3d6d4436-7724-4a03-b75b-ee4b90eae663",
   "metadata": {},
   "outputs": [
    {
     "name": "stdout",
     "output_type": "stream",
     "text": [
      "Iter 1: alpha = 1.000000, x = [-1.  1.], ||grad|| = 1.414214, direction = [0. 2.]\n",
      "Gradient tends to 0\n",
      "Minimum at: [-1.   1.5]\n"
     ]
    }
   ],
   "source": []
  },
  {
   "cell_type": "code",
   "execution_count": null,
   "id": "1830963f-9318-4a0d-b678-dfe30c1630c6",
   "metadata": {},
   "outputs": [],
   "source": []
  },
  {
   "cell_type": "code",
   "execution_count": 70,
   "id": "755c5a93-8bd6-4880-9586-3c5d68f31a6e",
   "metadata": {},
   "outputs": [],
   "source": [
    "Q = np.array([[2, -3], [-3, 5]])  \n",
    "b = np.array([0, -1])  \n",
    "def quadratic_function(x):  \n",
    "    return 0.5 * np.dot(x, np.dot(Q, x)) - np.dot(b, x)\n",
    "\n",
    "# Gradient of quadratic function\n",
    "def gradient(x):\n",
    "    return np.dot(Q, x) - b"
   ]
  },
  {
   "cell_type": "code",
   "execution_count": 71,
   "id": "c48d8120-bcff-4ef1-a9bc-b8eb4cd5c2c8",
   "metadata": {},
   "outputs": [
    {
     "name": "stdout",
     "output_type": "stream",
     "text": [
      "[[ 2 -3]\n",
      " [-3  5]]\n"
     ]
    },
    {
     "data": {
      "text/plain": [
       "np.float64(0.0)"
      ]
     },
     "execution_count": 71,
     "metadata": {},
     "output_type": "execute_result"
    }
   ],
   "source": [
    "x0 = np.array([0.0, 0.0])\n",
    "quadratic_function(x0)"
   ]
  },
  {
   "cell_type": "code",
   "execution_count": 72,
   "id": "b2c7575f-be25-4dc0-bbf4-4df9dd5d922b",
   "metadata": {},
   "outputs": [
    {
     "data": {
      "text/plain": [
       "np.float64(1.0)"
      ]
     },
     "execution_count": 72,
     "metadata": {},
     "output_type": "execute_result"
    }
   ],
   "source": [
    "np.linalg.norm(gradient(x0))"
   ]
  },
  {
   "cell_type": "code",
   "execution_count": 7,
   "id": "b88ae69b-585a-434c-971f-7d3cdc2b70a4",
   "metadata": {},
   "outputs": [],
   "source": [
    "def q_con_dir(f,x_vals,Q,d,tol=1e-3):\n",
    "    n = len(x_vals)\n",
    "    x_syms = sp.symbols(f\"x1:{n+1}\")\n",
    "\n",
    "    grad_f = sp.Matrix([sp.diff(f,var) for var in x_syms])\n",
    "\n",
    "    grad_func = sp.lambdify(x_syms,grad_f,'numpy')\n",
    "    func = sp.lambdify(x_syms,f,'numpy')\n",
    "\n",
    "    for i in range(d.shape[0]):\n",
    "        grad = np.array(grad_func(*x_vals),dtype = float).flatten()\n",
    "        if np.linalg.norm(grad) <= tol:\n",
    "            break\n",
    "        Qd = np.dot(Q,d[i])\n",
    "        alpha = -np.dot(grad,d[i])/np.dot(d[i],Qd)\n",
    "        x_vals = x_vals + alpha*d[i]\n",
    "        print(f\"Iter:{i+1}: alpha:{alpha}, x:{x_vals}, f(x):{func(*x_vals)},direction: {d[i]}, grad:{np.linalg.norm(grad)}\")\n",
    "    return x_vals"
   ]
  },
  {
   "cell_type": "code",
   "execution_count": 8,
   "id": "8f65af57-4af2-4b8a-978e-e64ce33f7d06",
   "metadata": {},
   "outputs": [
    {
     "name": "stdout",
     "output_type": "stream",
     "text": [
      "Iter:1: alpha:-0.5, x:[-0.5  0. ], f(x):0.75,direction: [1 0], grad:1.4142135623730951\n",
      "Iter:2: alpha:0.25, x:[-0.5   0.25], f(x):0.625,direction: [0 1], grad:1.0\n"
     ]
    },
    {
     "data": {
      "text/plain": [
       "array([-0.5 ,  0.25])"
      ]
     },
     "execution_count": 8,
     "metadata": {},
     "output_type": "execute_result"
    }
   ],
   "source": [
    "x1, x2 = sp.symbols('x1 x2 ')\n",
    "f = x1**2 + 2*x2**2 + x1 - x2 + 1\n",
    "x0 = np.array([0.0, 0.0])\n",
    "Q = np.array([[2, 0], [0, 4]])\n",
    "d = np.array([[1,0],[0,1]])\n",
    "q_con_dir(f,x0,Q,d,tol=1e-3)"
   ]
  },
  {
   "cell_type": "code",
   "execution_count": 32,
   "id": "c62ac42b-e703-49f9-abb5-c7867c807973",
   "metadata": {},
   "outputs": [],
   "source": [
    "def bfgs(f,x_vals,tol=1e-3):\n",
    "    n = len(x_vals)\n",
    "    x_syms = sp.symbols(f\"x1:{n+1}\")\n",
    "\n",
    "    grad_f = sp.Matrix([sp.diff(f,var) for var in x_syms])\n",
    "\n",
    "    grad_func = sp.lambdify(x_syms,grad_f,'numpy')\n",
    "    func = sp.lambdify(x_syms,f,'numpy')\n",
    "\n",
    "    B = np.eye(n)\n",
    "    H = np.linalg.inv(B)\n",
    "\n",
    "    i=0\n",
    "    while True:\n",
    "        grad = np.array(grad_func(*x_vals),dtype = float).flatten()\n",
    "        if np.linalg.norm(grad) <=tol:\n",
    "            break\n",
    "        d = -(H @ grad)\n",
    "        alpha = line_search(func,grad,x_vals,d)\n",
    "        x_new = x_vals + alpha * d\n",
    "        grad_new = np.array(grad_func(*x_new), dtype=float).flatten()\n",
    "\n",
    "        s = x_new - x_vals\n",
    "        y = grad_new - grad\n",
    "        \n",
    "        B =  B - ((B @ s) @ (s.T @ B))/(s.T @ (B @ s)) + (y @ y.T)/(y.T @ s)\n",
    "        try: \n",
    "            H = np.linalg.inv(B)\n",
    "        except np.linalg.LinAlgError:\n",
    "            print(\"Hessian Matrix is Singular\")\n",
    "            B = np.eye(n)\n",
    "            H = np.linalg.inv(B)\n",
    "        print(f\"Iter:{i+1}: alpha:{alpha}, x:{x_vals}, f(x):{func(*x_vals)}, grad:{np.linalg.norm(grad)}\")\n",
    "        x_vals = x_new\n",
    "        i+=1\n",
    "    return x_vals"
   ]
  },
  {
   "cell_type": "code",
   "execution_count": 34,
   "id": "d736a9a0-ca4e-45a6-acd1-aa889a6a4e8e",
   "metadata": {
    "scrolled": true
   },
   "outputs": [
    {
     "name": "stdout",
     "output_type": "stream",
     "text": [
      "Iter:1: alpha:1.0, x:[0. 0.], f(x):0.0, grad:1.4142135623730951\n",
      "Iter:2: alpha:1.0, x:[-1.  1.], f(x):-1.0, grad:1.4142135623730951\n",
      "Iter:3: alpha:1.0, x:[-0.66666667  1.33333333], f(x):-1.1111111111111112, grad:1.0540925533894592\n",
      "Iter:4: alpha:1.0, x:[-1.09009009  1.57657658], f(x):-1.2417011606200794, grad:0.20896240549086864\n",
      "Iter:5: alpha:1.0, x:[-0.98606473  1.50042176], f(x):-1.2495996836948509, grad:0.06345326376434153\n",
      "Iter:6: alpha:1.0, x:[-1.00418426  1.51017277], f(x):-1.2499466297118824, grad:0.012508801483888572\n",
      "Iter:7: alpha:1.0, x:[-1.00109193  1.50489657], f(x):-1.249984332405311, grad:0.009345380252848748\n",
      "Iter:8: alpha:1.0, x:[-1.00242822  1.50137642], f(x):-1.2499929974672765, grad:0.007270988881049321\n",
      "Iter:9: alpha:1.0, x:[-0.99938063  1.49956757], f(x):-1.2499995814253768, grad:0.0016554238906691695\n",
      "Minimum at: [-1.0001155   1.50007145]\n"
     ]
    }
   ],
   "source": [
    "x1, x2 = sp.symbols('x1 x2 ')\n",
    "f = x1 - x2 + 2*x1**2 + 2*x1*x2 + x2**2\n",
    "x0 = np.array([0.0, 0.0])\n",
    "\n",
    "result = bfgs(f, x0)\n",
    "print(\"Minimum at:\", result)"
   ]
  },
  {
   "cell_type": "code",
   "execution_count": null,
   "id": "e06492c8-7aa8-41f8-a559-3bf966ff8f65",
   "metadata": {},
   "outputs": [],
   "source": []
  },
  {
   "cell_type": "code",
   "execution_count": null,
   "id": "551464c8-78aa-467b-9955-2a1f3ab7aaae",
   "metadata": {},
   "outputs": [],
   "source": []
  },
  {
   "cell_type": "code",
   "execution_count": null,
   "id": "a43fffa0-f209-4a2e-913f-92fb906749a6",
   "metadata": {},
   "outputs": [],
   "source": []
  }
 ],
 "metadata": {
  "kernelspec": {
   "display_name": "Python 3 (ipykernel)",
   "language": "python",
   "name": "python3"
  },
  "language_info": {
   "codemirror_mode": {
    "name": "ipython",
    "version": 3
   },
   "file_extension": ".py",
   "mimetype": "text/x-python",
   "name": "python",
   "nbconvert_exporter": "python",
   "pygments_lexer": "ipython3",
   "version": "3.12.6"
  }
 },
 "nbformat": 4,
 "nbformat_minor": 5
}
