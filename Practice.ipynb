{
 "cells": [
  {
   "cell_type": "code",
   "execution_count": 8,
   "id": "2de39786-4163-4d60-ad8f-bdb203596fd1",
   "metadata": {},
   "outputs": [],
   "source": [
    "import numpy as np"
   ]
  },
  {
   "cell_type": "code",
   "execution_count": 9,
   "id": "62f2ee28-b4cb-4f8d-8470-73ee4eb3dca8",
   "metadata": {},
   "outputs": [],
   "source": [
    "import sympy as sp"
   ]
  },
  {
   "cell_type": "code",
   "execution_count": 22,
   "id": "68603210-518d-4e7c-9b5f-7fa88e58be43",
   "metadata": {},
   "outputs": [],
   "source": [
    "def golden_search(f,a,b,tol=1e-2):\n",
    "    #tol = length of interval of uncertainity\n",
    "    r = (np.sqrt(5) - 1) / 2\n",
    "    i =0\n",
    "    while abs(b - a) >tol:\n",
    "        x1 = a + (1-r)*(b - a)\n",
    "        x2 = a + r*(b - a)\n",
    "        if f(x1) < f(x2):\n",
    "            b = x2\n",
    "        else:\n",
    "            a = x1\n",
    "        i+= 1\n",
    "        print(f'iter:{i} | interval:[{a},{b}]')\n",
    "    x_min = (a+b)/2\n",
    "    return x_min, f(x_min), i"
   ]
  },
  {
   "cell_type": "code",
   "execution_count": 3,
   "id": "801f9289-f544-471d-89c3-e8df5c0baad2",
   "metadata": {},
   "outputs": [],
   "source": [
    "def f(x):\n",
    "    return x**2"
   ]
  },
  {
   "cell_type": "code",
   "execution_count": 21,
   "id": "1d3ae5d0-d133-4419-9d06-aa2348b6f6e8",
   "metadata": {},
   "outputs": [
    {
     "name": "stdout",
     "output_type": "stream",
     "text": [
      "iter:1 | interval:[-5,7.360679774997898]\n",
      "iter:2 | interval:[-5,2.6393202250021046]\n",
      "iter:3 | interval:[-2.0820393249936906,2.6393202250021046]\n",
      "iter:4 | interval:[-2.0820393249936906,0.8359213500126197]\n",
      "iter:5 | interval:[-0.9674775249768661,0.8359213500126197]\n",
      "iter:6 | interval:[-0.27864045000420534,0.8359213500126197]\n",
      "iter:7 | interval:[-0.27864045000420534,0.41019662496845566]\n",
      "iter:8 | interval:[-0.27864045000420534,0.14708427503995875]\n",
      "iter:9 | interval:[-0.11602807488853825,0.14708427503995875]\n",
      "iter:10 | interval:[-0.11602807488853825,0.046584300227128866]\n",
      "iter:11 | interval:[-0.05391567458570103,0.046584300227128866]\n",
      "iter:12 | interval:[-0.015528100075708366,0.046584300227128866]\n",
      "iter:13 | interval:[-0.015528100075708366,0.022859474434284308]\n",
      "iter:14 | interval:[-0.015528100075708366,0.0081967257171362]\n",
      "iter:15 | interval:[-0.006466023000011915,0.0081967257171362]\n",
      "iter:16 | interval:[-0.006466023000011915,0.002596054075684539]\n",
      "Minimum at x = -0.0019349844621636882, f(x) = 3.744164868814898e-06, iterations = 16\n"
     ]
    }
   ],
   "source": [
    "x_min, f_min, iters = golden_search(f, a=-5, b=15)\n",
    "print(f\"Minimum at x = {x_min}, f(x) = {f_min}, iterations = {iters}\")"
   ]
  },
  {
   "cell_type": "code",
   "execution_count": 3,
   "id": "b61574a7-76d6-49c2-ae3f-02b601aa90e2",
   "metadata": {},
   "outputs": [],
   "source": [
    "def fib(n): \n",
    "    fn = [0, 1,]\n",
    "    for i in range(2, n+1):\n",
    "        fn.append(fn[i-1] + fn[i-2])\n",
    "    return fn"
   ]
  },
  {
   "cell_type": "code",
   "execution_count": 63,
   "id": "c4388609-0df1-44b0-9db7-7f72cc650f8d",
   "metadata": {},
   "outputs": [],
   "source": [
    "def fib_search(f,a,b,n):\n",
    "    F = fib(n)\n",
    "    L0 = b - a\n",
    "    #print(f\"iter:{1} | interval: [{a},{b}]\")\n",
    "    for i in range(2,n+1):\n",
    "        L0i = (F[n-i]/F[n])*L0\n",
    "        x1 = a + L0i\n",
    "        x2 = b - L0i\n",
    "        if f(x1)>f(x2):\n",
    "            a = x1\n",
    "        else:\n",
    "            b = x2\n",
    "        print(f\"iter:{i-1} | interval: [{a},{b}]\")\n",
    "    x_min = (a+b)/2\n",
    "    return x_min, f(x_min), n"
   ]
  },
  {
   "cell_type": "code",
   "execution_count": 67,
   "id": "ff3182a5-9952-4716-983f-2a88572083b4",
   "metadata": {},
   "outputs": [
    {
     "name": "stdout",
     "output_type": "stream",
     "text": [
      "iter:1 | interval: [-5,7.380952380952381]\n",
      "iter:2 | interval: [-5,2.6190476190476195]\n",
      "iter:3 | interval: [-2.1428571428571432,2.6190476190476195]\n",
      "iter:4 | interval: [-2.1428571428571432,0.7142857142857149]\n",
      "iter:5 | interval: [-1.190476190476191,0.7142857142857149]\n",
      "iter:6 | interval: [-0.23809523809523858,0.7142857142857149]\n",
      "iter:7 | interval: [-0.23809523809523858,0.7142857142857149]\n"
     ]
    },
    {
     "data": {
      "text/plain": [
       "(0.23809523809523814, 0.056689342403628135, 8)"
      ]
     },
     "execution_count": 67,
     "metadata": {},
     "output_type": "execute_result"
    }
   ],
   "source": [
    "fib_search(f,-5,15,8)"
   ]
  },
  {
   "cell_type": "code",
   "execution_count": 6,
   "id": "0f04cf15-9304-48d9-a963-6f91cf83a1ef",
   "metadata": {},
   "outputs": [],
   "source": [
    "def newton(f,x_vals,tol=1e-3):\n",
    "    n = len(x_vals)\n",
    "    x_syms = sp.symbols(f\"x1:{n+1}\")\n",
    "\n",
    "    grad_f = sp.Matrix([sp.diff(f,var) for var in x_syms])\n",
    "    hess_f = sp.Matrix(n, n, lambda i, j: sp.diff(f, x_syms[i], x_syms[j]))\n",
    "\n",
    "    grad_func = sp.lambdify(x_syms, grad_f, \"numpy\")\n",
    "    hess_func = sp.lambdify(x_syms, hess_f, \"numpy\")\n",
    "    func = sp.lambdify(x_syms, f, \"numpy\")\n",
    "\n",
    "    i=0\n",
    "\n",
    "    while True:\n",
    "        grad = np.array(grad_func(*x_vals), dtype=float).flatten()\n",
    "        print(f\"Iter {i+1}: x = {x_vals}, f(x) = {func(*x_vals):.6f}, ||grad|| = {np.linalg.norm(grad):.6f}\")\n",
    "        if np.linalg.norm(grad) <= tol:\n",
    "            print(\"Gradient tends to 0\")\n",
    "            break\n",
    "        hess = np.array(hess_func(*x_vals), dtype=float)\n",
    "        try:\n",
    "            delta = np.dot(np.linalg.inv(hess),grad)\n",
    "        except np.linalg.LinAlgError:\n",
    "            print(\"Hessian matrix is singular.Stopping\")\n",
    "            break\n",
    "        x = x_vals - delta\n",
    "        x_vals = x\n",
    "        #print(f\"Iter {i+1}: x = {x_vals}, f(x) = {func(*x_vals):.6f}, ||grad|| = {np.linalg.norm(grad):.6f}\")\n",
    "        i+=1\n",
    "        \n",
    "    return x_vals"
   ]
  },
  {
   "cell_type": "code",
   "execution_count": 10,
   "id": "c32aca4f-c44a-428c-b3ed-0d6ebcc57a18",
   "metadata": {},
   "outputs": [
    {
     "name": "stdout",
     "output_type": "stream",
     "text": [
      "Iter 1: x = [2, 1], f(x) = 11.000000, ||grad|| = 5.656854\n",
      "Iter 2: x = [ 0. -1.], f(x) = 3.000000, ||grad|| = 0.000000\n",
      "Gradient tends to 0\n",
      "Minimum at: [ 0. -1.]\n"
     ]
    }
   ],
   "source": [
    "x1, x2 = sp.symbols('x1 x2 ')\n",
    "f = x1**2 + 2*x2 + x2**2 + 4\n",
    "#f=8*x1**2 - 4*x1*x2 + 5*x2**2\n",
    "result = newton(f, [2,1])\n",
    "print(\"Minimum at:\", result)"
   ]
  },
  {
   "cell_type": "code",
   "execution_count": 13,
   "id": "7967f811-795b-431b-8d6a-fc91845a2ff4",
   "metadata": {},
   "outputs": [],
   "source": [
    "def line_search(f, grad, x, delta, c1=1e-4, rho=0.5):\n",
    "    \n",
    "    alpha = 1.0\n",
    "    fx = f(*x)\n",
    "    while f(*(x + alpha * delta)) > fx + c1 * alpha * np.dot(grad, delta):\n",
    "        alpha *= rho\n",
    "    return alpha"
   ]
  },
  {
   "cell_type": "code",
   "execution_count": 16,
   "id": "f5e03b3e-5be9-4621-b929-4d3bb4f957ec",
   "metadata": {},
   "outputs": [],
   "source": [
    "def steepest_descent(f,x_vals,tol = 1e-5):\n",
    "    n = len(x_vals)\n",
    "    x_syms = sp.symbols(f\"x1:{n+1}\")\n",
    "\n",
    "    grad_f = sp.Matrix([sp.diff(f,var) for var in x_syms])\n",
    "\n",
    "    grad_func = sp.lambdify(x_syms, grad_f, \"numpy\")\n",
    "    func =  sp.lambdify(x_syms, f, \"numpy\")\n",
    "\n",
    "    i = 0\n",
    "    while True:\n",
    "        grad = np.array(grad_func(*x_vals), dtype=float).flatten()\n",
    "        d = -grad\n",
    "        alpha = line_search(func, grad, x_vals, d)\n",
    "        print(f\"Iter {i+1}: alpha:{alpha}, x = {x_vals}, f(x) = {func(*x_vals):.6f}, ||grad|| = {np.linalg.norm(grad):.6f}\")\n",
    "        if np.linalg.norm(grad) <= tol:\n",
    "            print(\"Gradient tends to 0\")\n",
    "            break\n",
    "\n",
    "        \n",
    "        x_vals = x_vals + alpha * d\n",
    "        i+=1\n",
    "        # print(f\"Iter {i+1}: alpha:{alpha}, x = {x_vals}, f(x) = {func(*x_vals):.6f}, ||grad|| = {np.linalg.norm(grad):.6f}\")\n",
    "\n",
    "    return x_vals"
   ]
  },
  {
   "cell_type": "code",
   "execution_count": 17,
   "id": "377204dc-df13-4bd2-b0c5-3e66db9821ef",
   "metadata": {},
   "outputs": [
    {
     "name": "stdout",
     "output_type": "stream",
     "text": [
      "Iter 1: alpha:0.5, x = [2, 1], f(x) = 11.000000, ||grad|| = 5.656854\n",
      "Iter 2: alpha:1.0, x = [ 0. -1.], f(x) = 3.000000, ||grad|| = 0.000000\n",
      "Gradient tends to 0\n",
      "Minimum at: [ 0. -1.]\n"
     ]
    }
   ],
   "source": [
    "x1, x2 = sp.symbols('x1 x2 ')\n",
    "f = x1**2 + 2*x2 + x2**2 + 4\n",
    "#f=x1**2 + x2**2 + 2*x1 + 4*x2 + 60\n",
    "result = steepest_descent(f, [2,1])\n",
    "print(\"Minimum at:\", result)"
   ]
  },
  {
   "cell_type": "code",
   "execution_count": 60,
   "id": "fe63f072-f02e-4e72-9b0e-0daef41ad31e",
   "metadata": {},
   "outputs": [],
   "source": [
    "def Q_conjugate_no_direction(f, x_vals, Q, tol = 1e-2):\n",
    "    n = len(x_vals)\n",
    "    x_syms = sp.symbols(f\"x1:{n+1}\")\n",
    "\n",
    "    grad_f = sp.Matrix([sp.diff(f,var) for var in x_syms])\n",
    "\n",
    "    grad_func = sp.lambdify(x_syms, grad_f, \"numpy\")\n",
    "    func =  sp.lambdify(x_syms, f, \"numpy\")\n",
    "\n",
    "    i = 0\n",
    "    grad = np.array(grad_func(*x_vals),dtype = float).flatten()\n",
    "    d = -grad\n",
    "    while True:\n",
    "        \n",
    "        #Qd = Q @ d\n",
    "        alpha = -(grad.T @ d)/(d.T @ (Q @ d))\n",
    "        print((d.T @ (Q @ d)))\n",
    "        x_vals = x_vals + alpha*d\n",
    "        grad = np.array(grad_func(*x_vals),dtype = float).flatten()\n",
    "        print(f\"Iter {i+1}: alpha = {alpha:.6f}, x = {x_vals}, f(x) = {func(*x_vals):.6f}, ||grad|| = {np.linalg.norm(grad):.6f}, direction : {d}\")\n",
    "        if np.linalg.norm(grad) <= tol:\n",
    "            print(\"Gradient tends to 0\")\n",
    "            break\n",
    "        \n",
    "        beta = (grad.T @ (Q @ d))/(d.T @ (Q @ d))\n",
    "        d = -grad + beta*d\n",
    "        i += 1\n",
    "    return x_vals"
   ]
  },
  {
   "cell_type": "code",
   "execution_count": 61,
   "id": "2b48e319-579f-4ca5-916c-d23869e73c45",
   "metadata": {
    "scrolled": true
   },
   "outputs": [
    {
     "name": "stdout",
     "output_type": "stream",
     "text": [
      "2.0\n",
      "Iter 1: alpha = 1.000000, x = [-1.  1.], f(x) = -1.000000, ||grad|| = 1.414214, direction : [-1.  1.]\n",
      "8.0\n",
      "Iter 2: alpha = 0.250000, x = [-1.   1.5], f(x) = -1.250000, ||grad|| = 0.000000, direction : [0. 2.]\n",
      "Gradient tends to 0\n",
      "Minimum at: [-1.   1.5]\n"
     ]
    }
   ],
   "source": [
    "x1, x2 = sp.symbols('x1 x2 ')\n",
    "f = x1 - x2 + 2*x1**2 + 2*x1*x2 + x2**2\n",
    "x0 = np.array([0.0, 0.0])\n",
    "Q = np.array([[4, 2], [2, 2]])\n",
    "result = Q_conjugate_no_direction(f, x0, Q)\n",
    "print(\"Minimum at:\", result)"
   ]
  },
  {
   "cell_type": "code",
   "execution_count": null,
   "id": "538a9c1a-c766-4b16-8d49-6a1cee56fd87",
   "metadata": {},
   "outputs": [],
   "source": []
  },
  {
   "cell_type": "code",
   "execution_count": 145,
   "id": "3d6d4436-7724-4a03-b75b-ee4b90eae663",
   "metadata": {},
   "outputs": [
    {
     "name": "stdout",
     "output_type": "stream",
     "text": [
      "Iter 1: alpha = 1.000000, x = [-1.  1.], ||grad|| = 1.414214, direction = [0. 2.]\n",
      "Gradient tends to 0\n",
      "Minimum at: [-1.   1.5]\n"
     ]
    }
   ],
   "source": []
  },
  {
   "cell_type": "code",
   "execution_count": null,
   "id": "1830963f-9318-4a0d-b678-dfe30c1630c6",
   "metadata": {},
   "outputs": [],
   "source": []
  },
  {
   "cell_type": "code",
   "execution_count": 70,
   "id": "755c5a93-8bd6-4880-9586-3c5d68f31a6e",
   "metadata": {},
   "outputs": [],
   "source": [
    "Q = np.array([[2, -3], [-3, 5]])  \n",
    "b = np.array([0, -1])  \n",
    "def quadratic_function(x):  \n",
    "    return 0.5 * np.dot(x, np.dot(Q, x)) - np.dot(b, x)\n",
    "\n",
    "# Gradient of quadratic function\n",
    "def gradient(x):\n",
    "    return np.dot(Q, x) - b"
   ]
  },
  {
   "cell_type": "code",
   "execution_count": 71,
   "id": "c48d8120-bcff-4ef1-a9bc-b8eb4cd5c2c8",
   "metadata": {},
   "outputs": [
    {
     "name": "stdout",
     "output_type": "stream",
     "text": [
      "[[ 2 -3]\n",
      " [-3  5]]\n"
     ]
    },
    {
     "data": {
      "text/plain": [
       "np.float64(0.0)"
      ]
     },
     "execution_count": 71,
     "metadata": {},
     "output_type": "execute_result"
    }
   ],
   "source": [
    "x0 = np.array([0.0, 0.0])\n",
    "quadratic_function(x0)"
   ]
  },
  {
   "cell_type": "code",
   "execution_count": 72,
   "id": "b2c7575f-be25-4dc0-bbf4-4df9dd5d922b",
   "metadata": {},
   "outputs": [
    {
     "data": {
      "text/plain": [
       "np.float64(1.0)"
      ]
     },
     "execution_count": 72,
     "metadata": {},
     "output_type": "execute_result"
    }
   ],
   "source": [
    "np.linalg.norm(gradient(x0))"
   ]
  },
  {
   "cell_type": "code",
   "execution_count": 15,
   "id": "b88ae69b-585a-434c-971f-7d3cdc2b70a4",
   "metadata": {},
   "outputs": [],
   "source": [
    "def q_con_dir(f,x_vals,Q,d,tol=1e-3):\n",
    "    n = len(x_vals)\n",
    "    x_syms = sp.symbols(f\"x1:{n+1}\")\n",
    "\n",
    "    grad_f = sp.Matrix([sp.diff(f,var) for var in x_syms])\n",
    "\n",
    "    grad_func = sp.lambdify(x_syms,grad_f,'numpy')\n",
    "    func = sp.lambdify(x_syms,f,'numpy')\n",
    "\n",
    "    for i in range(d.shape[0]):\n",
    "        grad = np.array(grad_func(*x_vals),dtype = float).flatten()\n",
    "        if np.linalg.norm(grad) <= tol:\n",
    "            break\n",
    "        Qd = np.dot(Q,d[i])\n",
    "        alpha = -np.dot(grad,d[i])/np.dot(d[i],Qd)\n",
    "        x_vals = x_vals + alpha*d[i]\n",
    "        print(f\"Iter:{i+1}: alpha:{alpha}, x:{x_vals}, f(x):{func(*x_vals)},direction: {d[i]}, grad:{np.linalg.norm(grad)}\")\n",
    "    return x_vals"
   ]
  },
  {
   "cell_type": "code",
   "execution_count": 17,
   "id": "8f65af57-4af2-4b8a-978e-e64ce33f7d06",
   "metadata": {},
   "outputs": [
    {
     "name": "stdout",
     "output_type": "stream",
     "text": [
      "Iter:1: alpha:-0.5, x:[-0.5  0. ], f(x):0.75,direction: [1 0], grad:1.4142135623730951\n",
      "Iter:2: alpha:0.25, x:[-0.5   0.25], f(x):0.625,direction: [0 1], grad:1.0\n"
     ]
    },
    {
     "data": {
      "text/plain": [
       "array([-0.5 ,  0.25])"
      ]
     },
     "execution_count": 17,
     "metadata": {},
     "output_type": "execute_result"
    }
   ],
   "source": [
    "x1, x2 = sp.symbols('x1 x2 ')\n",
    "f = x1**2 + 2*x2**2 + x1 - x2 + 1\n",
    "\n",
    "x0 = np.array([0.0, 0.0])\n",
    "Q = np.array([[2, 0], [0, 4]])\n",
    "d = np.array([[1,0],[0,1]])\n",
    "q_con_dir(f,x0,Q,d,tol=1e-3)"
   ]
  },
  {
   "cell_type": "code",
   "execution_count": null,
   "id": "fd65aa89-d6ff-4244-8a36-66e3c24a3190",
   "metadata": {},
   "outputs": [],
   "source": []
  },
  {
   "cell_type": "code",
   "execution_count": null,
   "id": "0b67965b-66e0-40cb-9f6a-832f86204bef",
   "metadata": {},
   "outputs": [],
   "source": []
  },
  {
   "cell_type": "code",
   "execution_count": 70,
   "id": "567f99a9-2f0f-4a0d-b50d-a9ed5c2658ff",
   "metadata": {},
   "outputs": [],
   "source": [
    "def exact_line_search(f_expr, vars, x_vals, delta):\n",
    "    \"\"\"\n",
    "    Exact line search using SymPy.\n",
    "    \n",
    "    f_expr : sympy expression (not lambdified)\n",
    "    vars   : list of sympy symbols [x1, x2, ...]\n",
    "    x_vals : numpy array (current point)\n",
    "    delta  : numpy array (search direction)\n",
    "    \"\"\"\n",
    "    alpha = sp.symbols('alpha', real=True)\n",
    "\n",
    "    # φ(α) = f(x + αδ)\n",
    "    x_new = [xi + alpha*d for xi, d in zip(x_vals, delta)]\n",
    "    phi = f_expr.subs({v: xn for v, xn in zip(vars, x_new)})\n",
    "\n",
    "    # Derivative wrt α\n",
    "    dphi = sp.diff(phi, alpha)\n",
    "\n",
    "    # Solve φ'(α) = 0\n",
    "    alpha_star = sp.solve(sp.Eq(dphi, 0), alpha)\n",
    "\n",
    "    # Pick the first real solution and convert to float\n",
    "    alpha_star = [a.evalf() for a in alpha_star if a.is_real]\n",
    "    if not alpha_star:\n",
    "        return 1.0  # fallback if no solution\n",
    "    return float(alpha_star[0])\n"
   ]
  },
  {
   "cell_type": "code",
   "execution_count": 22,
   "id": "c62ac42b-e703-49f9-abb5-c7867c807973",
   "metadata": {},
   "outputs": [],
   "source": [
    "def bfgs(f,x_vals,tol=1e-3):\n",
    "    n = len(x_vals)\n",
    "    x_syms = sp.symbols(f\"x1:{n+1}\")\n",
    "\n",
    "    grad_f = sp.Matrix([sp.diff(f,var) for var in x_syms])\n",
    "\n",
    "    grad_func = sp.lambdify(x_syms,grad_f,'numpy')\n",
    "    func = sp.lambdify(x_syms,f,'numpy')\n",
    "\n",
    "    B = np.eye(n)\n",
    "    H = np.linalg.inv(B)\n",
    "\n",
    "    grad = np.array(grad_func(*x_vals),dtype = float).flatten()\n",
    "\n",
    "    i=0\n",
    "    while True:\n",
    "        \n",
    "        # if np.linalg.norm(grad) <=tol:\n",
    "        #     break\n",
    "        d = (H @ -grad)\n",
    "        alpha = line_search(func,grad,x_vals,d) #this is backtracking line sear incase exact one does not converge\n",
    "        #alpha = exact_line_search(f, x_syms, x_vals, d)\n",
    "        print(f\"Iter:{i+1}: alpha:{alpha}, x:{x_vals}, f(x):{func(*x_vals)}, grad:{np.linalg.norm(grad)}\")\n",
    "        if np.linalg.norm(grad) <=tol:\n",
    "            break\n",
    "        x_new = x_vals + alpha * d\n",
    "        grad_new = np.array(grad_func(*x_new), dtype=float).flatten()\n",
    "\n",
    "        s = x_new - x_vals\n",
    "        y = grad_new - grad\n",
    "        \n",
    "        s = s.reshape(-1,1)\n",
    "        y = y.reshape(-1,1)\n",
    "        \n",
    "        #Bs = B @ s\n",
    "        #B = B - np.outer(Bs, B.T @ s) / (s.T @ Bs) + np.outer(y, y) / (y.T @ s)\n",
    "\n",
    "        B =  B - ((B @ s) @ (s.T @ B))/(s.T @ (B @ s)) + (y @ y.T)/(y.T @ s) \n",
    "        \n",
    "        try: \n",
    "            H = np.linalg.inv(B)\n",
    "        except np.linalg.LinAlgError:\n",
    "            print(\"Hessian Matrix is Singular\")\n",
    "            B = np.eye(n)\n",
    "            H = np.linalg.inv(B)\n",
    "        \n",
    "        x_vals = x_new\n",
    "        grad = grad_new\n",
    "        i+=1\n",
    "    return x_vals"
   ]
  },
  {
   "cell_type": "code",
   "execution_count": 23,
   "id": "d736a9a0-ca4e-45a6-acd1-aa889a6a4e8e",
   "metadata": {
    "scrolled": true
   },
   "outputs": [
    {
     "name": "stdout",
     "output_type": "stream",
     "text": [
      "Iter:1: alpha:1.0, x:[0. 0.], f(x):0.0, grad:1.4142135623730951\n",
      "Iter:2: alpha:0.25, x:[-1.  1.], f(x):-1.0, grad:1.4142135623730951\n",
      "Iter:3: alpha:1.0, x:[-1.   1.5], f(x):-1.25, grad:0.0\n",
      "Minimum at: [-1.   1.5]\n"
     ]
    }
   ],
   "source": [
    "x1, x2 = sp.symbols('x1 x2 ')\n",
    "#f = x1 - x2 + 2*x1**2 + 2*x1*x2 + x2**2\n",
    "#f = x1**2 + 2*x2**2 + x1 - x2 + 1\n",
    "#f = x1**2 + 2.5*x2**2 - 3*x1*x2 - x2\n",
    "#f=2*x1**2 + 4*x2**2 - 4*x1 - 4*x1*x2 + 4\n",
    "f=2*x1**2 + x2**2 + 2*x1*x2 + x1 - x2\n",
    "x0 = np.array([0.0, 0.0])\n",
    "\n",
    "result = bfgs(f, x0)\n",
    "print(\"Minimum at:\", result)"
   ]
  },
  {
   "cell_type": "code",
   "execution_count": null,
   "id": "e06492c8-7aa8-41f8-a559-3bf966ff8f65",
   "metadata": {},
   "outputs": [],
   "source": []
  },
  {
   "cell_type": "code",
   "execution_count": null,
   "id": "a43fffa0-f209-4a2e-913f-92fb906749a6",
   "metadata": {},
   "outputs": [],
   "source": []
  },
  {
   "cell_type": "code",
   "execution_count": null,
   "id": "211b2ff0-c40e-45dc-a0a7-ecf0e6d386f5",
   "metadata": {},
   "outputs": [],
   "source": []
  }
 ],
 "metadata": {
  "kernelspec": {
   "display_name": "Python 3 (ipykernel)",
   "language": "python",
   "name": "python3"
  },
  "language_info": {
   "codemirror_mode": {
    "name": "ipython",
    "version": 3
   },
   "file_extension": ".py",
   "mimetype": "text/x-python",
   "name": "python",
   "nbconvert_exporter": "python",
   "pygments_lexer": "ipython3",
   "version": "3.12.6"
  }
 },
 "nbformat": 4,
 "nbformat_minor": 5
}
