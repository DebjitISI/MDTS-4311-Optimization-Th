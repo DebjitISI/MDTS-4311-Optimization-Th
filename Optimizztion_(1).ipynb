{
 "cells": [
  {
   "cell_type": "code",
   "execution_count": 2,
   "id": "d58358d2",
   "metadata": {
    "id": "d58358d2"
   },
   "outputs": [],
   "source": [
    "import pandas as pd\n",
    "import numpy as np\n",
    "\n",
    "def fibonacci(n):\n",
    "    fn = [0, 1,]\n",
    "    for i in range(2, n+1):\n",
    "        fn.append(fn[i-1] + fn[i-2])\n",
    "    return fn\n",
    "\n",
    "\n",
    "N = np.arange(16)\n",
    "data = {'n': N, 'Fibonacci(n)': fibonacci(15)}\n",
    "df = pd.DataFrame(data)"
   ]
  },
  {
   "cell_type": "code",
   "execution_count": 3,
   "id": "1d088d34",
   "metadata": {
    "id": "1d088d34"
   },
   "outputs": [],
   "source": [
    "def fib_search(f, a, b, n):\n",
    "    F = fibonacci(n)\n",
    "    L0 = b - a # Initial interval of uncertainty\n",
    "    R1 = L0\n",
    "    Li = (F[n-2]/F[n])*L0\n",
    "\n",
    "    R = [Li/L0]\n",
    "\n",
    "    for i in range(2, n+1):\n",
    "        if Li > L0/2:\n",
    "            x1 = b - Li\n",
    "            x2 = a + Li\n",
    "        else:\n",
    "            x1 = a + Li\n",
    "            x2 = b - Li\n",
    "\n",
    "        f1, f2 = f(x1), f(x2)\n",
    "\n",
    "        if f1 < f2:\n",
    "            b = x2\n",
    "            Li = (F[n - i]/F[n - (i - 2)])*L0 # New interval of uncertainty\n",
    "        elif f1 > f2:\n",
    "            a = x1\n",
    "            Li = (F[n - i]/F[n - (i - 2)])*L0 # New interval of uncertainty\n",
    "        else:\n",
    "            a, b = x1, x2\n",
    "            Li = (F[n - i]/F[n - (i - 2)])*(b - a) # New interval of uncertainty\n",
    "\n",
    "        L0 = b - a\n",
    "        R += [Li/R1,]\n",
    "\n",
    "    if f1 <= f2:\n",
    "        return [x1, f(x1),R]\n",
    "    else:\n",
    "        return [x2, f(x2),R]"
   ]
  },
  {
   "cell_type": "code",
   "execution_count": 4,
   "id": "28aa0816",
   "metadata": {
    "colab": {
     "base_uri": "https://localhost:8080/"
    },
    "id": "28aa0816",
    "outputId": "adc15168-e544-470e-ba91-99d8a22a3b33"
   },
   "outputs": [
    {
     "name": "stdout",
     "output_type": "stream",
     "text": [
      "[-0.3846153846153839, 0.1479289940828397]\n",
      "-0.11834319526627211\n"
     ]
    }
   ],
   "source": [
    "def f(x):\n",
    "    return x**2\n",
    "\n",
    "interval = fib_search(f,-5,15,7)\n",
    "min = (interval[0]+interval[1])/2\n",
    "print(f\"[{interval[0]}, {interval[1]}]\")\n",
    "print(min)"
   ]
  },
  {
   "cell_type": "code",
   "execution_count": 5,
   "id": "aa77cb29",
   "metadata": {
    "id": "aa77cb29"
   },
   "outputs": [],
   "source": [
    "import math\n",
    "\n",
    "def golden_section_search(f, a, b, tol=1e-5, max_iter=100):\n",
    "    r = (math.sqrt(5) - 1) / 2  # golden ratio\n",
    "\n",
    "    x1 = b - r * (b - a)\n",
    "    x2 = a + r * (b - a)\n",
    "    f1 = f(x1)\n",
    "    f2 = f(x2)\n",
    "\n",
    "    iter_count = 0\n",
    "    while abs(b - a) > tol :#and iter_count < max_iter:\n",
    "        if f1 < f2:\n",
    "            b = x2\n",
    "            x2 = x1\n",
    "            f2 = f1\n",
    "            x1 = b - r * (b - a)\n",
    "            f1 = f(x1)\n",
    "        else:\n",
    "            a = x1\n",
    "            x1 = x2\n",
    "            f1 = f2\n",
    "            x2 = a + r * (b - a)\n",
    "            f2 = f(x2)\n",
    "        iter_count += 1\n",
    "\n",
    "    x_min = (a + b) / 2\n",
    "    return x_min, f(x_min), iter_count\n"
   ]
  },
  {
   "cell_type": "code",
   "execution_count": 6,
   "id": "68100291",
   "metadata": {
    "colab": {
     "base_uri": "https://localhost:8080/"
    },
    "id": "68100291",
    "outputId": "12573b78-054c-4fd3-f524-1f0a8af4e6d3"
   },
   "outputs": [
    {
     "name": "stdout",
     "output_type": "stream",
     "text": [
      "Minimum at x = 3.5179209931301263e-06, f(x) = 1.2375768113905654e-11, iterations = 28\n"
     ]
    }
   ],
   "source": [
    "x_min, f_min, iters = golden_section_search(f, a=0, b=5)\n",
    "print(f\"Minimum at x = {x_min}, f(x) = {f_min}, iterations = {iters}\")"
   ]
  },
  {
   "cell_type": "code",
   "execution_count": 7,
   "id": "36f75153",
   "metadata": {
    "colab": {
     "base_uri": "https://localhost:8080/"
    },
    "id": "36f75153",
    "outputId": "3495e202-df0c-441d-9efd-236ca3ec1e14"
   },
   "outputs": [
    {
     "name": "stdout",
     "output_type": "stream",
     "text": [
      " message: \n",
      "          Optimization terminated successfully;\n",
      "          The returned value satisfies the termination criteria\n",
      "          (using xtol = 1e-05 )\n",
      " success: True\n",
      "     fun: 0.0\n",
      "       x: 1.57172245561641e-162\n",
      "     nit: 799\n",
      "    nfev: 804\n"
     ]
    }
   ],
   "source": [
    "from scipy.optimize import minimize_scalar\n",
    "result = minimize_scalar(f, method='golden', tol=10**-5)\n",
    "print(result)"
   ]
  },
  {
   "cell_type": "markdown",
   "id": "bd478ccf-37f5-414b-9d97-e30bc0c45682",
   "metadata": {
    "id": "bd478ccf-37f5-414b-9d97-e30bc0c45682"
   },
   "source": [
    "### Steepest Descent method"
   ]
  },
  {
   "cell_type": "code",
   "execution_count": 8,
   "id": "22090806-30fb-48fa-873f-741a67edcaf8",
   "metadata": {
    "id": "22090806-30fb-48fa-873f-741a67edcaf8"
   },
   "outputs": [],
   "source": [
    "from sympy import symbols, Matrix, zeros, lambdify, diff,Poly\n",
    "import sympy\n",
    "\n",
    "def steepest_descent(f, x_vals, learning_rate=0.01, max_iter=1000, tol=1e-6):\n",
    "    n = len(x_vals)\n",
    "    x_syms = symbols(f'x1:{n+1}')\n",
    "\n",
    "    # Convert the symbolic function to a callable numerical function\n",
    "    f_numeric = lambdify(x_syms, f, 'numpy')\n",
    "\n",
    "    # Gradient (vector of first partials)\n",
    "    grad_f_sym = Matrix([diff(f, var) for var in x_syms])\n",
    "    grad_f_numeric = lambdify(x_syms, grad_f_sym, 'numpy')\n",
    "\n",
    "    x_vec = Matrix(x_vals).reshape(n, 1)\n",
    "\n",
    "    for i in range(max_iter):\n",
    "        # Evaluate gradient at current point\n",
    "        x_input = [float(x_vec[i, 0]) for i in range(n)]\n",
    "        grad_val = grad_f_numeric(*x_input) # Use splat operator for argument unpacking\n",
    "\n",
    "        # Convert numpy array gradient to sympy Matrix for consistency\n",
    "        grad_val_matrix = Matrix(grad_val).reshape(n, 1)\n",
    "\n",
    "        # Convergence check\n",
    "        if grad_val_matrix.norm() < tol:\n",
    "            print(f\"Converged after {i} iterations.\")\n",
    "            break\n",
    "\n",
    "        # Determine step size (using a fixed learning rate for simplicity here,\n",
    "        #  a proper line search would be better for general functions)\n",
    "        alpha = learning_rate\n",
    "\n",
    "        # Update step\n",
    "        x_new_vec = x_vec - alpha * grad_val_matrix\n",
    "\n",
    "        # Update x_vec\n",
    "        x_vec = x_new_vec\n",
    "    else:\n",
    "        print(f\"Did not converge after {max_iter} iterations.\")\n",
    "\n",
    "\n",
    "    return x_vec"
   ]
  },
  {
   "cell_type": "code",
   "execution_count": 9,
   "id": "82576765-3b19-4035-91e0-849bcd42ef59",
   "metadata": {
    "colab": {
     "base_uri": "https://localhost:8080/"
    },
    "id": "82576765-3b19-4035-91e0-849bcd42ef59",
    "outputId": "8be8f878-5700-422c-ac43-37c2b7995ea4"
   },
   "outputs": [
    {
     "name": "stdout",
     "output_type": "stream",
     "text": [
      "Converged after 770 iterations.\n",
      "Minimum at: Matrix([[3.50839334784554e-7], [-0.999999649160665]])\n"
     ]
    }
   ],
   "source": [
    "x1, x2 = symbols('x1 x2 ')\n",
    "f = x1**2 + 2*x2 + x2**2 + 4\n",
    "\n",
    "result = steepest_descent(f, [2,1])\n",
    "print(\"Minimum at:\", result)"
   ]
  },
  {
   "cell_type": "markdown",
   "id": "f4be7b4c-33b2-4f03-adcf-3d4585e67e47",
   "metadata": {
    "id": "f4be7b4c-33b2-4f03-adcf-3d4585e67e47"
   },
   "source": [
    "### Newton's Method"
   ]
  },
  {
   "cell_type": "code",
   "execution_count": 10,
   "id": "eb7603af-802a-4bb6-9e66-6afea2ea9274",
   "metadata": {
    "id": "eb7603af-802a-4bb6-9e66-6afea2ea9274"
   },
   "outputs": [],
   "source": [
    "def newton_method(f,x_vals):\n",
    "    n = len(x_vals)\n",
    "    x_syms = symbols(f'x1:{n+1}')\n",
    "\n",
    "    poly = Poly(f,*x_syms)\n",
    "    terms = poly.terms()\n",
    "\n",
    "    # Gradient (vector of first partials)\n",
    "    grad_f = Matrix([diff(f, var) for var in x_syms])\n",
    "\n",
    "    # Hessian (matrix of second partials)\n",
    "    H_f = Matrix(n, n, lambda i, j: diff(f, x_syms[i], x_syms[j]))\n",
    "\n",
    "\n",
    "    x_vec = Matrix(x_vals).reshape(n, 1)\n",
    "    while True:\n",
    "        # Evaluate gradient and Hessian at current point by substituting the variables with values\n",
    "        x_input = [x_vec[i, 0] for i in range(n)]\n",
    "\n",
    "        # Evaluate gradient and Hessian at current point\n",
    "        grad_val = grad_f.subs(dict(zip(x_syms, x_vec)))\n",
    "        hess_val = H_f.subs(dict(zip(x_syms, x_vec)))\n",
    "\n",
    "        # Convergence check\n",
    "        if grad_val == zeros(n,1):\n",
    "            break\n",
    "\n",
    "        # Newton step: x_new = x - H⁻¹ * grad\n",
    "        try:\n",
    "            delta = hess_val.inv() * grad_val\n",
    "        except:\n",
    "            print(\"Hessian is singular. Stopping.\")\n",
    "            break\n",
    "\n",
    "        x_vec = (x_vec - delta)\n",
    "\n",
    "    return x_vec\n",
    "\n"
   ]
  },
  {
   "cell_type": "code",
   "execution_count": 11,
   "id": "fe65799f-2148-4d80-816e-f8bc69106823",
   "metadata": {
    "colab": {
     "base_uri": "https://localhost:8080/"
    },
    "id": "fe65799f-2148-4d80-816e-f8bc69106823",
    "outputId": "aab48a71-6aaf-4344-bf7f-7ae1b0b47725"
   },
   "outputs": [
    {
     "name": "stdout",
     "output_type": "stream",
     "text": [
      "Hessian is singular. Stopping.\n",
      "Converged after 737 iterations.\n"
     ]
    },
    {
     "ename": "ValueError",
     "evalue": "Exceeds the limit (4300 digits) for integer string conversion; use sys.set_int_max_str_digits() to increase the limit",
     "output_type": "error",
     "traceback": [
      "\u001b[31m---------------------------------------------------------------------------\u001b[39m",
      "\u001b[31mValueError\u001b[39m                                Traceback (most recent call last)",
      "\u001b[36mCell\u001b[39m\u001b[36m \u001b[39m\u001b[32mIn[11]\u001b[39m\u001b[32m, line 6\u001b[39m\n\u001b[32m      4\u001b[39m result = newton_method(f, [\u001b[32m1\u001b[39m, -\u001b[32m1\u001b[39m, \u001b[32m1\u001b[39m])\n\u001b[32m      5\u001b[39m result_steepest= steepest_descent(f, [\u001b[32m1\u001b[39m, -\u001b[32m1\u001b[39m, \u001b[32m1\u001b[39m])\n\u001b[32m----> \u001b[39m\u001b[32m6\u001b[39m \u001b[38;5;28;43mprint\u001b[39;49m\u001b[43m(\u001b[49m\u001b[43mresult\u001b[49m\u001b[43m)\u001b[49m\n",
      "\u001b[36mFile \u001b[39m\u001b[32m~\\AppData\\Local\\Programs\\Python\\Python313\\Lib\\site-packages\\sympy\\matrices\\matrixbase.py:3725\u001b[39m, in \u001b[36mMatrixBase.__str__\u001b[39m\u001b[34m(self)\u001b[39m\n\u001b[32m   3723\u001b[39m \u001b[38;5;28;01mif\u001b[39;00m S.Zero \u001b[38;5;129;01min\u001b[39;00m \u001b[38;5;28mself\u001b[39m.shape:\n\u001b[32m   3724\u001b[39m     \u001b[38;5;28;01mreturn\u001b[39;00m \u001b[33m'\u001b[39m\u001b[33mMatrix(\u001b[39m\u001b[38;5;132;01m%s\u001b[39;00m\u001b[33m, \u001b[39m\u001b[38;5;132;01m%s\u001b[39;00m\u001b[33m, [])\u001b[39m\u001b[33m'\u001b[39m % (\u001b[38;5;28mself\u001b[39m.rows, \u001b[38;5;28mself\u001b[39m.cols)\n\u001b[32m-> \u001b[39m\u001b[32m3725\u001b[39m \u001b[38;5;28;01mreturn\u001b[39;00m \u001b[33m\"\u001b[39m\u001b[33mMatrix(\u001b[39m\u001b[38;5;132;01m%s\u001b[39;00m\u001b[33m)\u001b[39m\u001b[33m\"\u001b[39m % \u001b[38;5;28;43mstr\u001b[39;49m\u001b[43m(\u001b[49m\u001b[38;5;28;43mself\u001b[39;49m\u001b[43m.\u001b[49m\u001b[43mtolist\u001b[49m\u001b[43m(\u001b[49m\u001b[43m)\u001b[49m\u001b[43m)\u001b[49m\n",
      "\u001b[36mFile \u001b[39m\u001b[32m~\\AppData\\Local\\Programs\\Python\\Python313\\Lib\\site-packages\\sympy\\core\\_print_helpers.py:29\u001b[39m, in \u001b[36mPrintable.__str__\u001b[39m\u001b[34m(self)\u001b[39m\n\u001b[32m     27\u001b[39m \u001b[38;5;28;01mdef\u001b[39;00m\u001b[38;5;250m \u001b[39m\u001b[34m__str__\u001b[39m(\u001b[38;5;28mself\u001b[39m):\n\u001b[32m     28\u001b[39m     \u001b[38;5;28;01mfrom\u001b[39;00m\u001b[38;5;250m \u001b[39m\u001b[34;01msympy\u001b[39;00m\u001b[34;01m.\u001b[39;00m\u001b[34;01mprinting\u001b[39;00m\u001b[34;01m.\u001b[39;00m\u001b[34;01mstr\u001b[39;00m\u001b[38;5;250m \u001b[39m\u001b[38;5;28;01mimport\u001b[39;00m sstr\n\u001b[32m---> \u001b[39m\u001b[32m29\u001b[39m     \u001b[38;5;28;01mreturn\u001b[39;00m \u001b[43msstr\u001b[49m\u001b[43m(\u001b[49m\u001b[38;5;28;43mself\u001b[39;49m\u001b[43m,\u001b[49m\u001b[43m \u001b[49m\u001b[43morder\u001b[49m\u001b[43m=\u001b[49m\u001b[38;5;28;43;01mNone\u001b[39;49;00m\u001b[43m)\u001b[49m\n",
      "\u001b[36mFile \u001b[39m\u001b[32m~\\AppData\\Local\\Programs\\Python\\Python313\\Lib\\site-packages\\sympy\\printing\\printer.py:408\u001b[39m, in \u001b[36m_PrintFunction.__call__\u001b[39m\u001b[34m(self, *args, **kwargs)\u001b[39m\n\u001b[32m    407\u001b[39m \u001b[38;5;28;01mdef\u001b[39;00m\u001b[38;5;250m \u001b[39m\u001b[34m__call__\u001b[39m(\u001b[38;5;28mself\u001b[39m, *args, **kwargs):\n\u001b[32m--> \u001b[39m\u001b[32m408\u001b[39m     \u001b[38;5;28;01mreturn\u001b[39;00m \u001b[38;5;28;43mself\u001b[39;49m\u001b[43m.\u001b[49m\u001b[43m__wrapped__\u001b[49m\u001b[43m(\u001b[49m\u001b[43m*\u001b[49m\u001b[43margs\u001b[49m\u001b[43m,\u001b[49m\u001b[43m \u001b[49m\u001b[43m*\u001b[49m\u001b[43m*\u001b[49m\u001b[43mkwargs\u001b[49m\u001b[43m)\u001b[49m\n",
      "\u001b[36mFile \u001b[39m\u001b[32m~\\AppData\\Local\\Programs\\Python\\Python313\\Lib\\site-packages\\sympy\\printing\\str.py:993\u001b[39m, in \u001b[36msstr\u001b[39m\u001b[34m(expr, **settings)\u001b[39m\n\u001b[32m    977\u001b[39m \u001b[38;5;250m\u001b[39m\u001b[33;03m\"\"\"Returns the expression as a string.\u001b[39;00m\n\u001b[32m    978\u001b[39m \n\u001b[32m    979\u001b[39m \u001b[33;03mFor large expressions where speed is a concern, use the setting\u001b[39;00m\n\u001b[32m   (...)\u001b[39m\u001b[32m    989\u001b[39m \u001b[33;03m'Eq(a + b, 0)'\u001b[39;00m\n\u001b[32m    990\u001b[39m \u001b[33;03m\"\"\"\u001b[39;00m\n\u001b[32m    992\u001b[39m p = StrPrinter(settings)\n\u001b[32m--> \u001b[39m\u001b[32m993\u001b[39m s = \u001b[43mp\u001b[49m\u001b[43m.\u001b[49m\u001b[43mdoprint\u001b[49m\u001b[43m(\u001b[49m\u001b[43mexpr\u001b[49m\u001b[43m)\u001b[49m\n\u001b[32m    995\u001b[39m \u001b[38;5;28;01mreturn\u001b[39;00m s\n",
      "\u001b[36mFile \u001b[39m\u001b[32m~\\AppData\\Local\\Programs\\Python\\Python313\\Lib\\site-packages\\sympy\\printing\\printer.py:293\u001b[39m, in \u001b[36mPrinter.doprint\u001b[39m\u001b[34m(self, expr)\u001b[39m\n\u001b[32m    291\u001b[39m \u001b[38;5;28;01mdef\u001b[39;00m\u001b[38;5;250m \u001b[39m\u001b[34mdoprint\u001b[39m(\u001b[38;5;28mself\u001b[39m, expr):\n\u001b[32m    292\u001b[39m \u001b[38;5;250m    \u001b[39m\u001b[33;03m\"\"\"Returns printer's representation for expr (as a string)\"\"\"\u001b[39;00m\n\u001b[32m--> \u001b[39m\u001b[32m293\u001b[39m     \u001b[38;5;28;01mreturn\u001b[39;00m \u001b[38;5;28mself\u001b[39m._str(\u001b[38;5;28;43mself\u001b[39;49m\u001b[43m.\u001b[49m\u001b[43m_print\u001b[49m\u001b[43m(\u001b[49m\u001b[43mexpr\u001b[49m\u001b[43m)\u001b[49m)\n",
      "\u001b[36mFile \u001b[39m\u001b[32m~\\AppData\\Local\\Programs\\Python\\Python313\\Lib\\site-packages\\sympy\\printing\\printer.py:332\u001b[39m, in \u001b[36mPrinter._print\u001b[39m\u001b[34m(self, expr, **kwargs)\u001b[39m\n\u001b[32m    330\u001b[39m     printmethod = \u001b[38;5;28mgetattr\u001b[39m(\u001b[38;5;28mself\u001b[39m, printmethodname, \u001b[38;5;28;01mNone\u001b[39;00m)\n\u001b[32m    331\u001b[39m     \u001b[38;5;28;01mif\u001b[39;00m printmethod \u001b[38;5;129;01mis\u001b[39;00m \u001b[38;5;129;01mnot\u001b[39;00m \u001b[38;5;28;01mNone\u001b[39;00m:\n\u001b[32m--> \u001b[39m\u001b[32m332\u001b[39m         \u001b[38;5;28;01mreturn\u001b[39;00m \u001b[43mprintmethod\u001b[49m\u001b[43m(\u001b[49m\u001b[43mexpr\u001b[49m\u001b[43m,\u001b[49m\u001b[43m \u001b[49m\u001b[43m*\u001b[49m\u001b[43m*\u001b[49m\u001b[43mkwargs\u001b[49m\u001b[43m)\u001b[49m\n\u001b[32m    333\u001b[39m \u001b[38;5;66;03m# Unknown object, fall back to the emptyPrinter.\u001b[39;00m\n\u001b[32m    334\u001b[39m \u001b[38;5;28;01mreturn\u001b[39;00m \u001b[38;5;28mself\u001b[39m.emptyPrinter(expr)\n",
      "\u001b[36mFile \u001b[39m\u001b[32m~\\AppData\\Local\\Programs\\Python\\Python313\\Lib\\site-packages\\sympy\\printing\\str.py:718\u001b[39m, in \u001b[36mStrPrinter._print_Rational\u001b[39m\u001b[34m(self, expr)\u001b[39m\n\u001b[32m    716\u001b[39m \u001b[38;5;28;01mif\u001b[39;00m \u001b[38;5;28mself\u001b[39m._settings.get(\u001b[33m\"\u001b[39m\u001b[33msympy_integers\u001b[39m\u001b[33m\"\u001b[39m, \u001b[38;5;28;01mFalse\u001b[39;00m):\n\u001b[32m    717\u001b[39m     \u001b[38;5;28;01mreturn\u001b[39;00m \u001b[33m\"\u001b[39m\u001b[33mS(\u001b[39m\u001b[38;5;132;01m%s\u001b[39;00m\u001b[33m)/\u001b[39m\u001b[38;5;132;01m%s\u001b[39;00m\u001b[33m\"\u001b[39m % (expr.p, expr.q)\n\u001b[32m--> \u001b[39m\u001b[32m718\u001b[39m \u001b[38;5;28;01mreturn\u001b[39;00m \u001b[33m\"\u001b[39m\u001b[38;5;132;01m%s\u001b[39;00m\u001b[33m/\u001b[39m\u001b[38;5;132;01m%s\u001b[39;00m\u001b[33m\"\u001b[39m % (expr.p, expr.q)\n",
      "\u001b[31mValueError\u001b[39m: Exceeds the limit (4300 digits) for integer string conversion; use sys.set_int_max_str_digits() to increase the limit"
     ]
    }
   ],
   "source": [
    "x1, x2, x3 = symbols('x1 x2 x3')\n",
    "f = x1**4+x1**3-x1+x2**4-x2**2+x2+x3**2-x3+x1*x2*x3\n",
    "\n",
    "result = newton_method(f, [1, -1, 1])\n",
    "result_steepest= steepest_descent(f, [1, -1, 1])\n",
    "print(result)"
   ]
  },
  {
   "cell_type": "code",
   "execution_count": null,
   "id": "4ce4f095-667d-4dd2-ad6f-dd7a8fad2d8f",
   "metadata": {},
   "outputs": [],
   "source": []
  }
 ],
 "metadata": {
  "colab": {
   "provenance": []
  },
  "kernelspec": {
   "display_name": "Python 3 (ipykernel)",
   "language": "python",
   "name": "python3"
  },
  "language_info": {
   "codemirror_mode": {
    "name": "ipython",
    "version": 3
   },
   "file_extension": ".py",
   "mimetype": "text/x-python",
   "name": "python",
   "nbconvert_exporter": "python",
   "pygments_lexer": "ipython3",
   "version": "3.13.5"
  }
 },
 "nbformat": 4,
 "nbformat_minor": 5
}
