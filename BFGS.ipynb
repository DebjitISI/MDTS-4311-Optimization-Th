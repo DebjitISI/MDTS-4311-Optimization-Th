{
 "cells": [
  {
   "cell_type": "code",
   "execution_count": 1,
   "id": "e1b178c1-31de-4478-939c-2a12b0367cec",
   "metadata": {},
   "outputs": [],
   "source": [
    "import numpy as np\n",
    "from scipy.optimize import minimize_scalar"
   ]
  },
  {
   "cell_type": "code",
   "execution_count": 2,
   "id": "381f5f86-2b1b-4892-ab37-cbb513644df5",
   "metadata": {},
   "outputs": [],
   "source": [
    "def steepest_descent(f, grad_f, x0, tol=1e-6, max_iter=100):\n",
    "    \"\"\"\n",
    "    Steepest Descent Method with Exact Line Search\n",
    "\n",
    "    Parameters:\n",
    "    - f: function f(x), where x is a numpy array\n",
    "    - grad_f: gradient function grad_f(x) returning numpy array\n",
    "    - x0: initial point (numpy array)\n",
    "    - tol: tolerance for stopping criterion (norm of gradient)\n",
    "    - max_iter: maximum number of iterations\n",
    "\n",
    "    Returns:\n",
    "    - x: final point (minimum estimate)\n",
    "    - history: list of iterates\n",
    "    \"\"\"\n",
    "    x = x0.copy()\n",
    "    history = [x.copy()]\n",
    "\n",
    "    for i in range(max_iter):\n",
    "        grad = grad_f(x)\n",
    "        grad_norm = np.linalg.norm(grad)\n",
    "\n",
    "        if grad_norm < tol:\n",
    "            print(f\"Converged in {i} iterations.\")\n",
    "            break\n",
    "\n",
    "        d = -grad  # Steepest descent direction\n",
    "\n",
    "        # Define function for line search: f_alpha(α) = f(x + αd)\n",
    "        f_alpha = lambda alpha: f(x + alpha * d)\n",
    "        res = minimize_scalar(f_alpha)\n",
    "\n",
    "        alpha = res.x  # Best step size\n",
    "        x = x + alpha * d\n",
    "        history.append(x.copy())\n",
    "\n",
    "        print(f\"Iter {i+1}: alpha = {alpha:.6f}, x = {x}, f(x) = {f(x):.6f}, ||grad|| = {grad_norm:.6f}\")\n",
    "\n",
    "    return x, history\n"
   ]
  },
  {
   "cell_type": "code",
   "execution_count": 3,
   "id": "d6fa89a6-a2b0-4b72-bc0d-8da2a88f3fd5",
   "metadata": {},
   "outputs": [
    {
     "name": "stdout",
     "output_type": "stream",
     "text": [
      "Iter 1: alpha = 0.500000, x = [ 2. -3.], f(x) = 0.000000, ||grad|| = 7.211103\n",
      "Converged in 1 iterations.\n",
      "\n",
      "Minimum found at: [ 2. -3.]\n",
      "f(min) = 0.0\n"
     ]
    }
   ],
   "source": [
    "\n",
    "def f(x):\n",
    "    x1, x2 = x\n",
    "    return (x1 - 2)**2 + (x2 + 3)**2\n",
    "\n",
    "\n",
    "def grad_f(x):\n",
    "    x1, x2 = x\n",
    "    return np.array([2*(x1 - 2), 2*(x2 + 3)])\n",
    "\n",
    "\n",
    "x0 = np.array([0.0, 0.0])\n",
    "\n",
    "\n",
    "x_min, history = steepest_descent(f, grad_f, x0)\n",
    "\n",
    "print(\"\\nMinimum found at:\", x_min)\n",
    "print(\"f(min) =\", f(x_min))\n"
   ]
  },
  {
   "cell_type": "code",
   "execution_count": 5,
   "id": "706a07e5-e155-47e8-8908-559041d6f476",
   "metadata": {},
   "outputs": [
    {
     "name": "stdout",
     "output_type": "stream",
     "text": [
      "Minimum at: [-0.5   0.25]\n"
     ]
    }
   ],
   "source": [
    "def conjugate_gradient(A, b, x0, tol=1e-6, max_iter=10):\n",
    "    x = x0\n",
    "    r = b - A @ x\n",
    "    p = r\n",
    "    while True:#for i in range(max_iter):\n",
    "        Ap = A @ p\n",
    "        alpha = r.T @ r / (p.T @ Ap)\n",
    "        x = x + alpha * p\n",
    "        r_new = r - alpha * Ap\n",
    "        if np.linalg.norm(r_new) < tol:\n",
    "            break\n",
    "        beta = (r_new.T @ r_new) / (r.T @ r)\n",
    "        p = r_new + beta * p\n",
    "        r = r_new\n",
    "    return x\n",
    "\n",
    "\n",
    "A = np.array([[2, 0], [0, 4]])\n",
    "b = np.array([-1, 1])\n",
    "x0 = np.array([0, 0])\n",
    "x_min = conjugate_gradient(A, b, x0)\n",
    "print(\"Minimum at:\", x_min)\n"
   ]
  },
  {
   "cell_type": "code",
   "execution_count": null,
   "id": "532e7ca4-114f-466e-9160-84113e01867e",
   "metadata": {},
   "outputs": [],
   "source": []
  },
  {
   "cell_type": "code",
   "execution_count": 6,
   "id": "895ae896-f31c-44d3-8ab7-80f5ead887bd",
   "metadata": {},
   "outputs": [
    {
     "data": {
      "text/plain": [
       "[array([0., 0.]), array([ 2., -3.])]"
      ]
     },
     "execution_count": 6,
     "metadata": {},
     "output_type": "execute_result"
    }
   ],
   "source": [
    "history"
   ]
  },
  {
   "cell_type": "code",
   "execution_count": 7,
   "id": "98fa3a1b-7012-41b8-988a-968cd3beacf9",
   "metadata": {},
   "outputs": [],
   "source": [
    "from scipy.optimize import minimize"
   ]
  },
  {
   "cell_type": "code",
   "execution_count": 10,
   "id": "4819f4d5-5327-4213-b6ba-8fc998ff872d",
   "metadata": {},
   "outputs": [],
   "source": [
    "def quadratic_function(x):\n",
    "    Q = np.array([[2, -3], [-3, 5]])  \n",
    "    b = np.array([0, -1])                              \n",
    "    return 0.5 * np.dot(x, np.dot(Q, x)) + np.dot(b, x)\n",
    "\n",
    "# Gradient of quadratic function\n",
    "def gradient(x):\n",
    "    Q = np.array([[2, -3], [-3, 5]])  \n",
    "    b = np.array([0, -1])\n",
    "    return np.dot(Q, x) + b\n",
    "\n",
    "x0 = np.array([0.0, 0.0])\n",
    "\n",
    "# Minimize \n",
    "result = minimize(quadratic_function, x0, method='BFGS', jac=gradient)"
   ]
  },
  {
   "cell_type": "code",
   "execution_count": 11,
   "id": "d0240fed-f7dd-4de7-a5bf-63e1b0a643f5",
   "metadata": {},
   "outputs": [
    {
     "name": "stdout",
     "output_type": "stream",
     "text": [
      "Optimal solution: [3. 2.]\n",
      "Function value at optimum: -0.9999999999999989\n",
      "Number of iterations: 5\n"
     ]
    }
   ],
   "source": [
    "print(\"Optimal solution:\", result.x)\n",
    "print(\"Function value at optimum:\", result.fun)\n",
    "print(\"Number of iterations:\", result.nit)"
   ]
  },
  {
   "cell_type": "code",
   "execution_count": 18,
   "id": "a94b3e05-553f-43db-816a-4428464c4d26",
   "metadata": {},
   "outputs": [],
   "source": [
    "def BFGS(f, grad_f, Q, x0, tol=1e-6, max_iter=100):\n",
    "    x = x0.copy()\n",
    "    history = [x.copy()]\n",
    "    H = -np.linalg.inv(Q)\n",
    "    B = np.array([[1, 0], [0, 1]])\n",
    "    while True:\n",
    "        grad = grad_f(x)\n",
    "        grad_norm = np.linalg.norm(grad)\n",
    "        \n",
    "        if grad_norm < tol:\n",
    "            print(f\"Converged in {i} iterations.\")\n",
    "            break\n",
    "        d = -(H @ grad)\n",
    "        f_alpha = lambda alpha: f(x + alpha * d)\n",
    "        res = minimize_scalar(f_alpha)\n",
    "        alpha = res.x\n",
    "        \n",
    "        del_x = alpha * d\n",
    "        B = B + (grad_f(x) @ grad_f(x).T)/(grad_f(x).T @ grad_f(x)) - (B @ del_x @ del_x.T @ B)/(del_x.T @ B @ del_x)\n",
    "        H = np.linalg.inv(B)\n",
    "        \n",
    "        x = x - alpha * (H @ grad)\n",
    "        print(f\"Iter {i+1}: alpha = {alpha:.6f}, x = {x}, f(x) = {f(x):.6f}, ||grad|| = {grad_norm:.6f}\")\n",
    "    return x, history"
   ]
  },
  {
   "cell_type": "code",
   "execution_count": 19,
   "id": "8ab984cd-91f5-417d-b873-2298781fd4c3",
   "metadata": {},
   "outputs": [
    {
     "ename": "ValueError",
     "evalue": "matmul: Input operand 0 does not have enough dimensions (has 0, gufunc core with signature (n?,k),(k,m?)->(n?,m?) requires 1)",
     "output_type": "error",
     "traceback": [
      "\u001b[31m---------------------------------------------------------------------------\u001b[39m",
      "\u001b[31mValueError\u001b[39m                                Traceback (most recent call last)",
      "\u001b[36mCell\u001b[39m\u001b[36m \u001b[39m\u001b[32mIn[19]\u001b[39m\u001b[32m, line 3\u001b[39m\n\u001b[32m      1\u001b[39m x0 = np.array([\u001b[32m0.0\u001b[39m, \u001b[32m0.0\u001b[39m])\n\u001b[32m      2\u001b[39m Q = np.array([[\u001b[32m2\u001b[39m, -\u001b[32m3\u001b[39m], [-\u001b[32m3\u001b[39m, \u001b[32m5\u001b[39m]])\n\u001b[32m----> \u001b[39m\u001b[32m3\u001b[39m x_min, history = \u001b[43mBFGS\u001b[49m\u001b[43m(\u001b[49m\u001b[43mquadratic_function\u001b[49m\u001b[43m,\u001b[49m\u001b[43m \u001b[49m\u001b[43mgradient\u001b[49m\u001b[43m,\u001b[49m\u001b[43m \u001b[49m\u001b[43mQ\u001b[49m\u001b[43m,\u001b[49m\u001b[43m \u001b[49m\u001b[43mx0\u001b[49m\u001b[43m)\u001b[49m\n\u001b[32m      5\u001b[39m \u001b[38;5;28mprint\u001b[39m(\u001b[33m\"\u001b[39m\u001b[38;5;130;01m\\n\u001b[39;00m\u001b[33mMinimum found at:\u001b[39m\u001b[33m\"\u001b[39m, x_min)\n\u001b[32m      6\u001b[39m \u001b[38;5;28mprint\u001b[39m(\u001b[33m\"\u001b[39m\u001b[33mf(min) =\u001b[39m\u001b[33m\"\u001b[39m, f(x_min))\n",
      "\u001b[36mCell\u001b[39m\u001b[36m \u001b[39m\u001b[32mIn[18]\u001b[39m\u001b[32m, line 19\u001b[39m, in \u001b[36mBFGS\u001b[39m\u001b[34m(f, grad_f, Q, x0, tol, max_iter)\u001b[39m\n\u001b[32m     16\u001b[39m alpha = res.x\n\u001b[32m     18\u001b[39m del_x = alpha * d\n\u001b[32m---> \u001b[39m\u001b[32m19\u001b[39m B = B + (grad_f(x) @ grad_f(x).T)/(grad_f(x).T @ grad_f(x)) - (\u001b[43mB\u001b[49m\u001b[43m \u001b[49m\u001b[43m@\u001b[49m\u001b[43m \u001b[49m\u001b[43mdel_x\u001b[49m\u001b[43m \u001b[49m\u001b[43m@\u001b[49m\u001b[43m \u001b[49m\u001b[43mdel_x\u001b[49m\u001b[43m.\u001b[49m\u001b[43mT\u001b[49m\u001b[43m \u001b[49m\u001b[43m@\u001b[49m\u001b[43m \u001b[49m\u001b[43mB\u001b[49m)/(del_x.T @ B @ del_x)\n\u001b[32m     20\u001b[39m H = np.linalg.inv(B)\n\u001b[32m     22\u001b[39m x = x - alpha * (H @ grad)\n",
      "\u001b[31mValueError\u001b[39m: matmul: Input operand 0 does not have enough dimensions (has 0, gufunc core with signature (n?,k),(k,m?)->(n?,m?) requires 1)"
     ]
    }
   ],
   "source": [
    "\n",
    "x0 = np.array([0.0, 0.0])\n",
    "Q = np.array([[2, -3], [-3, 5]])\n",
    "x_min, history = BFGS(quadratic_function, gradient, Q, x0)\n",
    "\n",
    "print(\"\\nMinimum found at:\", x_min)\n",
    "print(\"f(min) =\", f(x_min))"
   ]
  },
  {
   "cell_type": "code",
   "execution_count": null,
   "id": "1ef061bb-96e4-4b1a-b05f-e1239db0613c",
   "metadata": {},
   "outputs": [],
   "source": []
  }
 ],
 "metadata": {
  "kernelspec": {
   "display_name": "Python 3 (ipykernel)",
   "language": "python",
   "name": "python3"
  },
  "language_info": {
   "codemirror_mode": {
    "name": "ipython",
    "version": 3
   },
   "file_extension": ".py",
   "mimetype": "text/x-python",
   "name": "python",
   "nbconvert_exporter": "python",
   "pygments_lexer": "ipython3",
   "version": "3.13.5"
  }
 },
 "nbformat": 4,
 "nbformat_minor": 5
}
